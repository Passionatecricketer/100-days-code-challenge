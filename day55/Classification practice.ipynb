{
 "cells": [
  {
   "cell_type": "code",
   "execution_count": 4,
   "metadata": {},
   "outputs": [],
   "source": [
    "#importing required libraries\n",
    "\n",
    "import pandas as pd\n",
    "import matplotlib.pyplot as plt\n",
    "%matplotlib inline\n",
    "import numpy as np\n",
    "import warnings\n",
    "warnings.filterwarnings('ignore')"
   ]
  },
  {
   "cell_type": "code",
   "execution_count": 2,
   "metadata": {},
   "outputs": [],
   "source": [
    "#Reading datasets\n",
    "\n",
    "train=pd.read_csv('Train_pjb2QcD.csv')\n",
    "test=pd.read_csv('Test_wyCirpO.csv')"
   ]
  },
  {
   "cell_type": "code",
   "execution_count": 3,
   "metadata": {},
   "outputs": [
    {
     "name": "stderr",
     "output_type": "stream",
     "text": [
      "C:\\ProgramData\\Anaconda3\\lib\\site-packages\\pandas\\core\\frame.py:6201: FutureWarning: Sorting because non-concatenation axis is not aligned. A future version\n",
      "of pandas will change to not sort by default.\n",
      "\n",
      "To accept the future behavior, pass 'sort=True'.\n",
      "\n",
      "To retain the current behavior and silence the warning, pass sort=False\n",
      "\n",
      "  sort=sort)\n"
     ]
    },
    {
     "data": {
      "text/plain": [
       "(14572, 23)"
      ]
     },
     "execution_count": 3,
     "metadata": {},
     "output_type": "execute_result"
    }
   ],
   "source": [
    "combi = train.append(test, ignore_index=True)\n",
    "combi.shape"
   ]
  },
  {
   "cell_type": "code",
   "execution_count": 5,
   "metadata": {},
   "outputs": [
    {
     "name": "stdout",
     "output_type": "stream",
     "text": [
      "<class 'pandas.core.frame.DataFrame'>\n",
      "RangeIndex: 14572 entries, 0 to 14571\n",
      "Data columns (total 23 columns):\n",
      "Applicant_BirthDate            14476 non-null object\n",
      "Applicant_City_PIN             14441 non-null float64\n",
      "Applicant_Gender               14483 non-null object\n",
      "Applicant_Marital_Status       14469 non-null object\n",
      "Applicant_Occupation           12347 non-null object\n",
      "Applicant_Qualification        14442 non-null object\n",
      "Application_Receipt_Date       14572 non-null object\n",
      "Business_Sourced               9527 non-null float64\n",
      "ID                             14572 non-null object\n",
      "Manager_Business               13065 non-null float64\n",
      "Manager_Business2              13065 non-null float64\n",
      "Manager_Current_Designation    13065 non-null object\n",
      "Manager_DOJ                    13065 non-null object\n",
      "Manager_DoB                    13065 non-null object\n",
      "Manager_Gender                 13065 non-null object\n",
      "Manager_Grade                  13065 non-null float64\n",
      "Manager_Joining_Designation    13065 non-null object\n",
      "Manager_Num_Application        13065 non-null float64\n",
      "Manager_Num_Coded              13065 non-null float64\n",
      "Manager_Num_Products           13065 non-null float64\n",
      "Manager_Num_Products2          13065 non-null float64\n",
      "Manager_Status                 13065 non-null object\n",
      "Office_PIN                     14572 non-null int64\n",
      "dtypes: float64(9), int64(1), object(13)\n",
      "memory usage: 2.6+ MB\n"
     ]
    }
   ],
   "source": [
    "combi.info()"
   ]
  },
  {
   "cell_type": "code",
   "execution_count": 18,
   "metadata": {},
   "outputs": [
    {
     "data": {
      "text/html": [
       "<div>\n",
       "<style scoped>\n",
       "    .dataframe tbody tr th:only-of-type {\n",
       "        vertical-align: middle;\n",
       "    }\n",
       "\n",
       "    .dataframe tbody tr th {\n",
       "        vertical-align: top;\n",
       "    }\n",
       "\n",
       "    .dataframe thead th {\n",
       "        text-align: right;\n",
       "    }\n",
       "</style>\n",
       "<table border=\"1\" class=\"dataframe\">\n",
       "  <thead>\n",
       "    <tr style=\"text-align: right;\">\n",
       "      <th></th>\n",
       "      <th>Applicant_BirthDate</th>\n",
       "      <th>Applicant_City_PIN</th>\n",
       "      <th>Applicant_Gender</th>\n",
       "      <th>Applicant_Marital_Status</th>\n",
       "      <th>Applicant_Occupation</th>\n",
       "      <th>Applicant_Qualification</th>\n",
       "      <th>Application_Receipt_Date</th>\n",
       "      <th>Business_Sourced</th>\n",
       "      <th>ID</th>\n",
       "      <th>Manager_Business</th>\n",
       "      <th>...</th>\n",
       "      <th>Manager_DoB</th>\n",
       "      <th>Manager_Gender</th>\n",
       "      <th>Manager_Grade</th>\n",
       "      <th>Manager_Joining_Designation</th>\n",
       "      <th>Manager_Num_Application</th>\n",
       "      <th>Manager_Num_Coded</th>\n",
       "      <th>Manager_Num_Products</th>\n",
       "      <th>Manager_Num_Products2</th>\n",
       "      <th>Manager_Status</th>\n",
       "      <th>Office_PIN</th>\n",
       "    </tr>\n",
       "  </thead>\n",
       "  <tbody>\n",
       "    <tr>\n",
       "      <th>0</th>\n",
       "      <td>12/19/1971</td>\n",
       "      <td>844120.0</td>\n",
       "      <td>M</td>\n",
       "      <td>M</td>\n",
       "      <td>Others</td>\n",
       "      <td>Graduate</td>\n",
       "      <td>4/16/2007</td>\n",
       "      <td>0.0</td>\n",
       "      <td>FIN1000001</td>\n",
       "      <td>335249.0</td>\n",
       "      <td>...</td>\n",
       "      <td>2/17/1978</td>\n",
       "      <td>M</td>\n",
       "      <td>3.0</td>\n",
       "      <td>Level 1</td>\n",
       "      <td>2.0</td>\n",
       "      <td>1.0</td>\n",
       "      <td>28.0</td>\n",
       "      <td>28.0</td>\n",
       "      <td>Confirmation</td>\n",
       "      <td>842001</td>\n",
       "    </tr>\n",
       "    <tr>\n",
       "      <th>1</th>\n",
       "      <td>2/17/1983</td>\n",
       "      <td>844111.0</td>\n",
       "      <td>M</td>\n",
       "      <td>S</td>\n",
       "      <td>Others</td>\n",
       "      <td>Class XII</td>\n",
       "      <td>4/16/2007</td>\n",
       "      <td>1.0</td>\n",
       "      <td>FIN1000002</td>\n",
       "      <td>335249.0</td>\n",
       "      <td>...</td>\n",
       "      <td>2/17/1978</td>\n",
       "      <td>M</td>\n",
       "      <td>3.0</td>\n",
       "      <td>Level 1</td>\n",
       "      <td>2.0</td>\n",
       "      <td>1.0</td>\n",
       "      <td>28.0</td>\n",
       "      <td>28.0</td>\n",
       "      <td>Confirmation</td>\n",
       "      <td>842001</td>\n",
       "    </tr>\n",
       "    <tr>\n",
       "      <th>2</th>\n",
       "      <td>1/16/1966</td>\n",
       "      <td>844101.0</td>\n",
       "      <td>M</td>\n",
       "      <td>M</td>\n",
       "      <td>Business</td>\n",
       "      <td>Class XII</td>\n",
       "      <td>4/16/2007</td>\n",
       "      <td>0.0</td>\n",
       "      <td>FIN1000003</td>\n",
       "      <td>357184.0</td>\n",
       "      <td>...</td>\n",
       "      <td>3/3/1969</td>\n",
       "      <td>M</td>\n",
       "      <td>2.0</td>\n",
       "      <td>Level 1</td>\n",
       "      <td>0.0</td>\n",
       "      <td>0.0</td>\n",
       "      <td>24.0</td>\n",
       "      <td>24.0</td>\n",
       "      <td>Confirmation</td>\n",
       "      <td>800001</td>\n",
       "    </tr>\n",
       "    <tr>\n",
       "      <th>3</th>\n",
       "      <td>2/3/1988</td>\n",
       "      <td>814112.0</td>\n",
       "      <td>M</td>\n",
       "      <td>S</td>\n",
       "      <td>Salaried</td>\n",
       "      <td>Class XII</td>\n",
       "      <td>4/16/2007</td>\n",
       "      <td>0.0</td>\n",
       "      <td>FIN1000004</td>\n",
       "      <td>318356.0</td>\n",
       "      <td>...</td>\n",
       "      <td>8/14/1978</td>\n",
       "      <td>F</td>\n",
       "      <td>4.0</td>\n",
       "      <td>Level 1</td>\n",
       "      <td>0.0</td>\n",
       "      <td>0.0</td>\n",
       "      <td>22.0</td>\n",
       "      <td>22.0</td>\n",
       "      <td>Confirmation</td>\n",
       "      <td>814112</td>\n",
       "    </tr>\n",
       "    <tr>\n",
       "      <th>4</th>\n",
       "      <td>7/4/1985</td>\n",
       "      <td>815351.0</td>\n",
       "      <td>M</td>\n",
       "      <td>M</td>\n",
       "      <td>Others</td>\n",
       "      <td>Class XII</td>\n",
       "      <td>4/16/2007</td>\n",
       "      <td>0.0</td>\n",
       "      <td>FIN1000005</td>\n",
       "      <td>230402.0</td>\n",
       "      <td>...</td>\n",
       "      <td>2/7/1971</td>\n",
       "      <td>M</td>\n",
       "      <td>2.0</td>\n",
       "      <td>Level 1</td>\n",
       "      <td>2.0</td>\n",
       "      <td>1.0</td>\n",
       "      <td>17.0</td>\n",
       "      <td>17.0</td>\n",
       "      <td>Confirmation</td>\n",
       "      <td>814112</td>\n",
       "    </tr>\n",
       "  </tbody>\n",
       "</table>\n",
       "<p>5 rows × 23 columns</p>\n",
       "</div>"
      ],
      "text/plain": [
       "  Applicant_BirthDate  Applicant_City_PIN Applicant_Gender  \\\n",
       "0          12/19/1971            844120.0                M   \n",
       "1           2/17/1983            844111.0                M   \n",
       "2           1/16/1966            844101.0                M   \n",
       "3            2/3/1988            814112.0                M   \n",
       "4            7/4/1985            815351.0                M   \n",
       "\n",
       "  Applicant_Marital_Status Applicant_Occupation Applicant_Qualification  \\\n",
       "0                        M               Others                Graduate   \n",
       "1                        S               Others               Class XII   \n",
       "2                        M             Business               Class XII   \n",
       "3                        S             Salaried               Class XII   \n",
       "4                        M               Others               Class XII   \n",
       "\n",
       "  Application_Receipt_Date  Business_Sourced          ID  Manager_Business  \\\n",
       "0                4/16/2007               0.0  FIN1000001          335249.0   \n",
       "1                4/16/2007               1.0  FIN1000002          335249.0   \n",
       "2                4/16/2007               0.0  FIN1000003          357184.0   \n",
       "3                4/16/2007               0.0  FIN1000004          318356.0   \n",
       "4                4/16/2007               0.0  FIN1000005          230402.0   \n",
       "\n",
       "      ...      Manager_DoB Manager_Gender Manager_Grade  \\\n",
       "0     ...        2/17/1978              M           3.0   \n",
       "1     ...        2/17/1978              M           3.0   \n",
       "2     ...         3/3/1969              M           2.0   \n",
       "3     ...        8/14/1978              F           4.0   \n",
       "4     ...         2/7/1971              M           2.0   \n",
       "\n",
       "  Manager_Joining_Designation Manager_Num_Application  Manager_Num_Coded  \\\n",
       "0                     Level 1                     2.0                1.0   \n",
       "1                     Level 1                     2.0                1.0   \n",
       "2                     Level 1                     0.0                0.0   \n",
       "3                     Level 1                     0.0                0.0   \n",
       "4                     Level 1                     2.0                1.0   \n",
       "\n",
       "  Manager_Num_Products  Manager_Num_Products2  Manager_Status  Office_PIN  \n",
       "0                 28.0                   28.0    Confirmation      842001  \n",
       "1                 28.0                   28.0    Confirmation      842001  \n",
       "2                 24.0                   24.0    Confirmation      800001  \n",
       "3                 22.0                   22.0    Confirmation      814112  \n",
       "4                 17.0                   17.0    Confirmation      814112  \n",
       "\n",
       "[5 rows x 23 columns]"
      ]
     },
     "execution_count": 18,
     "metadata": {},
     "output_type": "execute_result"
    }
   ],
   "source": [
    "combi.head()"
   ]
  },
  {
   "cell_type": "code",
   "execution_count": 6,
   "metadata": {},
   "outputs": [
    {
     "data": {
      "text/plain": [
       "['Applicant_BirthDate',\n",
       " 'Applicant_Gender',\n",
       " 'Applicant_Marital_Status',\n",
       " 'Applicant_Occupation',\n",
       " 'Applicant_Qualification',\n",
       " 'Application_Receipt_Date',\n",
       " 'ID',\n",
       " 'Manager_Current_Designation',\n",
       " 'Manager_DOJ',\n",
       " 'Manager_DoB',\n",
       " 'Manager_Gender',\n",
       " 'Manager_Joining_Designation',\n",
       " 'Manager_Status']"
      ]
     },
     "execution_count": 6,
     "metadata": {},
     "output_type": "execute_result"
    }
   ],
   "source": [
    "cat_col = [c for i, c in enumerate(combi.columns) if combi.dtypes[i] in [np.object]]\n",
    "cat_col"
   ]
  },
  {
   "cell_type": "code",
   "execution_count": 12,
   "metadata": {},
   "outputs": [],
   "source": [
    "num_col = [c for i, c in enumerate(combi.columns) if combi.dtypes[i] in [np.number] ]"
   ]
  },
  {
   "cell_type": "code",
   "execution_count": 13,
   "metadata": {},
   "outputs": [
    {
     "data": {
      "text/plain": [
       "['Applicant_City_PIN',\n",
       " 'Business_Sourced',\n",
       " 'Manager_Business',\n",
       " 'Manager_Business2',\n",
       " 'Manager_Grade',\n",
       " 'Manager_Num_Application',\n",
       " 'Manager_Num_Coded',\n",
       " 'Manager_Num_Products',\n",
       " 'Manager_Num_Products2']"
      ]
     },
     "execution_count": 13,
     "metadata": {},
     "output_type": "execute_result"
    }
   ],
   "source": [
    "num_col"
   ]
  },
  {
   "cell_type": "code",
   "execution_count": 22,
   "metadata": {},
   "outputs": [],
   "source": [
    "combi['Applicant_BirthDate'].fillna(combi['Applicant_BirthDate'].mode()[0], inplace=True)"
   ]
  },
  {
   "cell_type": "code",
   "execution_count": 23,
   "metadata": {},
   "outputs": [],
   "source": [
    "combi['Applicant_Gender'].fillna(combi['Applicant_Gender'].mode()[0], inplace=True)\n",
    "combi['Applicant_Marital_Status'].fillna(combi['Applicant_Marital_Status'].mode()[0], inplace=True)\n",
    "combi['Applicant_Occupation'].fillna(combi['Applicant_Occupation'].mode()[0], inplace=True)\n",
    "combi['Applicant_Qualification'].fillna(combi['Applicant_Qualification'].mode()[0], inplace=True)"
   ]
  },
  {
   "cell_type": "code",
   "execution_count": 24,
   "metadata": {},
   "outputs": [],
   "source": [
    "combi['Manager_Current_Designation'].fillna(combi['Manager_Current_Designation'].mode()[0], inplace=True)\n",
    "combi['Manager_DOJ'].fillna(combi['Manager_DOJ'].mode()[0], inplace=True)\n",
    "combi['Manager_DoB'].fillna(combi['Manager_DoB'].mode()[0], inplace=True)\n",
    "combi['Manager_Gender'].fillna(combi['Manager_Gender'].mode()[0], inplace=True)\n",
    "combi['Manager_Joining_Designation'].fillna(combi['Manager_Joining_Designation'].mode()[0], inplace=True)\n",
    "combi['Manager_Status'].fillna(combi['Manager_Status'].mode()[0], inplace=True)"
   ]
  },
  {
   "cell_type": "code",
   "execution_count": 26,
   "metadata": {},
   "outputs": [],
   "source": [
    "combi['Applicant_City_PIN'].fillna(combi['Applicant_City_PIN'].mean(), inplace=True)"
   ]
  },
  {
   "cell_type": "code",
   "execution_count": 27,
   "metadata": {},
   "outputs": [],
   "source": [
    "combi['Manager_Business'].fillna(combi['Manager_Business'].mean(), inplace=True)\n",
    "combi['Manager_Business2'].fillna(combi['Manager_Business2'].mean(), inplace=True)\n",
    "combi['Manager_Grade'].fillna(combi['Manager_Grade'].mean(), inplace=True)\n",
    "combi['Manager_Num_Application'].fillna(combi['Manager_Num_Application'].mean(), inplace=True)\n",
    "combi['Manager_Num_Coded'].fillna(combi['Manager_Num_Coded'].mean(), inplace=True)\n",
    "combi['Manager_Num_Products'].fillna(combi['Manager_Num_Products'].mean(), inplace=True)\n",
    "combi['Manager_Num_Products2'].fillna(combi['Manager_Num_Products2'].mean(), inplace=True)"
   ]
  },
  {
   "cell_type": "code",
   "execution_count": 14,
   "metadata": {},
   "outputs": [],
   "source": [
    "X = train.iloc[:, 3:22].values\n",
    "y = train.iloc[:, 22].values"
   ]
  },
  {
   "cell_type": "code",
   "execution_count": 15,
   "metadata": {},
   "outputs": [
    {
     "ename": "ValueError",
     "evalue": "could not convert string to float: '9/23/1976'",
     "output_type": "error",
     "traceback": [
      "\u001b[1;31m---------------------------------------------------------------------------\u001b[0m",
      "\u001b[1;31mValueError\u001b[0m                                Traceback (most recent call last)",
      "\u001b[1;32m<ipython-input-15-761304663c9e>\u001b[0m in \u001b[0;36m<module>\u001b[1;34m()\u001b[0m\n\u001b[0;32m      1\u001b[0m \u001b[1;32mfrom\u001b[0m \u001b[0msklearn\u001b[0m\u001b[1;33m.\u001b[0m\u001b[0mpreprocessing\u001b[0m \u001b[1;32mimport\u001b[0m \u001b[0mImputer\u001b[0m\u001b[1;33m\u001b[0m\u001b[0m\n\u001b[0;32m      2\u001b[0m \u001b[0mimputer\u001b[0m \u001b[1;33m=\u001b[0m \u001b[0mImputer\u001b[0m\u001b[1;33m(\u001b[0m\u001b[0mmissing_values\u001b[0m \u001b[1;33m=\u001b[0m \u001b[1;34m'NaN'\u001b[0m\u001b[1;33m,\u001b[0m \u001b[0mstrategy\u001b[0m \u001b[1;33m=\u001b[0m \u001b[1;34m'mean'\u001b[0m\u001b[1;33m,\u001b[0m \u001b[0maxis\u001b[0m \u001b[1;33m=\u001b[0m \u001b[1;36m0\u001b[0m\u001b[1;33m)\u001b[0m\u001b[1;33m\u001b[0m\u001b[0m\n\u001b[1;32m----> 3\u001b[1;33m \u001b[0mimputer\u001b[0m \u001b[1;33m=\u001b[0m \u001b[0mimputer\u001b[0m\u001b[1;33m.\u001b[0m\u001b[0mfit\u001b[0m\u001b[1;33m(\u001b[0m\u001b[0mX\u001b[0m\u001b[1;33m)\u001b[0m\u001b[1;33m\u001b[0m\u001b[0m\n\u001b[0m\u001b[0;32m      4\u001b[0m \u001b[0mX\u001b[0m \u001b[1;33m=\u001b[0m \u001b[0mimputer\u001b[0m\u001b[1;33m.\u001b[0m\u001b[0mtransform\u001b[0m\u001b[1;33m(\u001b[0m\u001b[0mX\u001b[0m\u001b[1;33m)\u001b[0m\u001b[1;33m\u001b[0m\u001b[0m\n",
      "\u001b[1;32mC:\\ProgramData\\Anaconda3\\lib\\site-packages\\sklearn\\preprocessing\\imputation.py\u001b[0m in \u001b[0;36mfit\u001b[1;34m(self, X, y)\u001b[0m\n\u001b[0;32m    153\u001b[0m         \u001b[1;32mif\u001b[0m \u001b[0mself\u001b[0m\u001b[1;33m.\u001b[0m\u001b[0maxis\u001b[0m \u001b[1;33m==\u001b[0m \u001b[1;36m0\u001b[0m\u001b[1;33m:\u001b[0m\u001b[1;33m\u001b[0m\u001b[0m\n\u001b[0;32m    154\u001b[0m             X = check_array(X, accept_sparse='csc', dtype=np.float64,\n\u001b[1;32m--> 155\u001b[1;33m                             force_all_finite=False)\n\u001b[0m\u001b[0;32m    156\u001b[0m \u001b[1;33m\u001b[0m\u001b[0m\n\u001b[0;32m    157\u001b[0m             \u001b[1;32mif\u001b[0m \u001b[0msparse\u001b[0m\u001b[1;33m.\u001b[0m\u001b[0missparse\u001b[0m\u001b[1;33m(\u001b[0m\u001b[0mX\u001b[0m\u001b[1;33m)\u001b[0m\u001b[1;33m:\u001b[0m\u001b[1;33m\u001b[0m\u001b[0m\n",
      "\u001b[1;32mC:\\ProgramData\\Anaconda3\\lib\\site-packages\\sklearn\\utils\\validation.py\u001b[0m in \u001b[0;36mcheck_array\u001b[1;34m(array, accept_sparse, dtype, order, copy, force_all_finite, ensure_2d, allow_nd, ensure_min_samples, ensure_min_features, warn_on_dtype, estimator)\u001b[0m\n\u001b[0;32m    431\u001b[0m                                       force_all_finite)\n\u001b[0;32m    432\u001b[0m     \u001b[1;32melse\u001b[0m\u001b[1;33m:\u001b[0m\u001b[1;33m\u001b[0m\u001b[0m\n\u001b[1;32m--> 433\u001b[1;33m         \u001b[0marray\u001b[0m \u001b[1;33m=\u001b[0m \u001b[0mnp\u001b[0m\u001b[1;33m.\u001b[0m\u001b[0marray\u001b[0m\u001b[1;33m(\u001b[0m\u001b[0marray\u001b[0m\u001b[1;33m,\u001b[0m \u001b[0mdtype\u001b[0m\u001b[1;33m=\u001b[0m\u001b[0mdtype\u001b[0m\u001b[1;33m,\u001b[0m \u001b[0morder\u001b[0m\u001b[1;33m=\u001b[0m\u001b[0morder\u001b[0m\u001b[1;33m,\u001b[0m \u001b[0mcopy\u001b[0m\u001b[1;33m=\u001b[0m\u001b[0mcopy\u001b[0m\u001b[1;33m)\u001b[0m\u001b[1;33m\u001b[0m\u001b[0m\n\u001b[0m\u001b[0;32m    434\u001b[0m \u001b[1;33m\u001b[0m\u001b[0m\n\u001b[0;32m    435\u001b[0m         \u001b[1;32mif\u001b[0m \u001b[0mensure_2d\u001b[0m\u001b[1;33m:\u001b[0m\u001b[1;33m\u001b[0m\u001b[0m\n",
      "\u001b[1;31mValueError\u001b[0m: could not convert string to float: '9/23/1976'"
     ]
    }
   ],
   "source": [
    "from sklearn.preprocessing import LabelEncoder, OneHotEncoder\n",
    "labelencoder_X = LabelEncoder()\n",
    "X[:, 0] = labelencoder_X.fit_transform(X[:, 0])\n",
    "onehotencoder = OneHotEncoder(categorical_features = [0])\n",
    "X = onehotencoder.fit_transform(X).toarray()\n",
    "# Encoding the Dependent Variable\n",
    "labelencoder_y = LabelEncoder()\n",
    "y = labelencoder_y.fit_transform(y)"
   ]
  },
  {
   "cell_type": "code",
   "execution_count": 47,
   "metadata": {},
   "outputs": [],
   "source": [
    "X=pd.get_dummies(X)\n",
    "train=pd.get_dummies(train)\n",
    "test=pd.get_dummies(test)"
   ]
  },
  {
   "cell_type": "code",
   "execution_count": 48,
   "metadata": {},
   "outputs": [],
   "source": [
    "from sklearn.model_selection import train_test_split\n",
    "x_train, x_cv, y_train, y_cv = train_test_split(X,y, test_size =0.3)"
   ]
  },
  {
   "cell_type": "code",
   "execution_count": 49,
   "metadata": {},
   "outputs": [],
   "source": [
    "from sklearn.linear_model import LogisticRegression\n",
    "from sklearn.metrics import accuracy_score"
   ]
  },
  {
   "cell_type": "code",
   "execution_count": 50,
   "metadata": {},
   "outputs": [],
   "source": [
    "logreg=LogisticRegression()"
   ]
  },
  {
   "cell_type": "code",
   "execution_count": 51,
   "metadata": {},
   "outputs": [
    {
     "data": {
      "text/plain": [
       "LogisticRegression(C=1.0, class_weight=None, dual=False, fit_intercept=True,\n",
       "          intercept_scaling=1, max_iter=100, multi_class='ovr', n_jobs=1,\n",
       "          penalty='l2', random_state=None, solver='liblinear', tol=0.0001,\n",
       "          verbose=0, warm_start=False)"
      ]
     },
     "execution_count": 51,
     "metadata": {},
     "output_type": "execute_result"
    }
   ],
   "source": [
    "logreg.fit(x_train,y_train)"
   ]
  },
  {
   "cell_type": "code",
   "execution_count": 52,
   "metadata": {},
   "outputs": [
    {
     "data": {
      "text/plain": [
       "array([0, 0, 0, ..., 0, 0, 0], dtype=int64)"
      ]
     },
     "execution_count": 52,
     "metadata": {},
     "output_type": "execute_result"
    }
   ],
   "source": [
    "pred=logreg.predict(x_cv)\n",
    "pred"
   ]
  },
  {
   "cell_type": "code",
   "execution_count": 53,
   "metadata": {},
   "outputs": [
    {
     "data": {
      "text/plain": [
       "0.659118176364727"
      ]
     },
     "execution_count": 53,
     "metadata": {},
     "output_type": "execute_result"
    }
   ],
   "source": [
    "logreg.score(x_train,y_train)"
   ]
  },
  {
   "cell_type": "code",
   "execution_count": 55,
   "metadata": {},
   "outputs": [
    {
     "data": {
      "text/plain": [
       "0.65232598810773"
      ]
     },
     "execution_count": 55,
     "metadata": {},
     "output_type": "execute_result"
    }
   ],
   "source": [
    "accuracy_score(y_cv,pred)"
   ]
  },
  {
   "cell_type": "code",
   "execution_count": 57,
   "metadata": {},
   "outputs": [],
   "source": [
    "submission=pd.read_csv(r'E:\\ML models\\Bussiness sourced(Classification)\\Sample_Submission_RHYDQa4.csv')"
   ]
  },
  {
   "cell_type": "code",
   "execution_count": 58,
   "metadata": {},
   "outputs": [],
   "source": [
    "submission['Business_Sourced']=pred\n",
    "submission['ID']=test_original['ID']"
   ]
  },
  {
   "cell_type": "code",
   "execution_count": 59,
   "metadata": {},
   "outputs": [],
   "source": [
    "submission['Business_Sourced'].replace(0, 'N',inplace=True)\n",
    "submission['Business_Sourced'].replace(1, 'Y',inplace=True)"
   ]
  },
  {
   "cell_type": "code",
   "execution_count": 60,
   "metadata": {},
   "outputs": [],
   "source": [
    "predic = pd.DataFrame(submission, columns=['ID','Business_Sourced']).to_csv('prediction.csv',index=False)"
   ]
  },
  {
   "cell_type": "code",
   "execution_count": null,
   "metadata": {},
   "outputs": [],
   "source": []
  }
 ],
 "metadata": {
  "kernelspec": {
   "display_name": "Python 3",
   "language": "python",
   "name": "python3"
  },
  "language_info": {
   "codemirror_mode": {
    "name": "ipython",
    "version": 3
   },
   "file_extension": ".py",
   "mimetype": "text/x-python",
   "name": "python",
   "nbconvert_exporter": "python",
   "pygments_lexer": "ipython3",
   "version": "3.6.5"
  }
 },
 "nbformat": 4,
 "nbformat_minor": 2
}
