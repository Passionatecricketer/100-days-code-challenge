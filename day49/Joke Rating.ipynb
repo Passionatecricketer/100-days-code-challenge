{
 "cells": [
  {
   "cell_type": "code",
   "execution_count": 1,
   "metadata": {},
   "outputs": [],
   "source": [
    " import numpy as np\n",
    "import pandas as pd"
   ]
  },
  {
   "cell_type": "code",
   "execution_count": 2,
   "metadata": {},
   "outputs": [],
   "source": [
    "train = pd.read_csv('train.csv')"
   ]
  },
  {
   "cell_type": "code",
   "execution_count": 3,
   "metadata": {},
   "outputs": [
    {
     "data": {
      "text/plain": [
       "(1092059, 4)"
      ]
     },
     "execution_count": 3,
     "metadata": {},
     "output_type": "execute_result"
    }
   ],
   "source": [
    "train.shape"
   ]
  },
  {
   "cell_type": "code",
   "execution_count": 4,
   "metadata": {},
   "outputs": [],
   "source": [
    "train=train.sample(frac=0.1)"
   ]
  },
  {
   "cell_type": "code",
   "execution_count": 5,
   "metadata": {},
   "outputs": [
    {
     "data": {
      "text/plain": [
       "(109206, 4)"
      ]
     },
     "execution_count": 5,
     "metadata": {},
     "output_type": "execute_result"
    }
   ],
   "source": [
    "train.shape"
   ]
  },
  {
   "cell_type": "code",
   "execution_count": 6,
   "metadata": {},
   "outputs": [],
   "source": [
    "data = pd.read_csv(\"jokes.csv\")"
   ]
  },
  {
   "cell_type": "code",
   "execution_count": 7,
   "metadata": {},
   "outputs": [
    {
     "data": {
      "text/plain": [
       "(139, 2)"
      ]
     },
     "execution_count": 7,
     "metadata": {},
     "output_type": "execute_result"
    }
   ],
   "source": [
    "data.shape"
   ]
  },
  {
   "cell_type": "code",
   "execution_count": 8,
   "metadata": {},
   "outputs": [
    {
     "data": {
      "text/html": [
       "<div>\n",
       "<style scoped>\n",
       "    .dataframe tbody tr th:only-of-type {\n",
       "        vertical-align: middle;\n",
       "    }\n",
       "\n",
       "    .dataframe tbody tr th {\n",
       "        vertical-align: top;\n",
       "    }\n",
       "\n",
       "    .dataframe thead th {\n",
       "        text-align: right;\n",
       "    }\n",
       "</style>\n",
       "<table border=\"1\" class=\"dataframe\">\n",
       "  <thead>\n",
       "    <tr style=\"text-align: right;\">\n",
       "      <th></th>\n",
       "      <th>id</th>\n",
       "      <th>user_id</th>\n",
       "      <th>joke_id</th>\n",
       "      <th>Rating</th>\n",
       "      <th>joke_text</th>\n",
       "    </tr>\n",
       "  </thead>\n",
       "  <tbody>\n",
       "    <tr>\n",
       "      <th>0</th>\n",
       "      <td>1139_125</td>\n",
       "      <td>1139</td>\n",
       "      <td>125</td>\n",
       "      <td>1.312</td>\n",
       "      <td>A guy walked past a mental hospital and heard ...</td>\n",
       "    </tr>\n",
       "    <tr>\n",
       "      <th>1</th>\n",
       "      <td>17332_125</td>\n",
       "      <td>17332</td>\n",
       "      <td>125</td>\n",
       "      <td>1.875</td>\n",
       "      <td>A guy walked past a mental hospital and heard ...</td>\n",
       "    </tr>\n",
       "    <tr>\n",
       "      <th>2</th>\n",
       "      <td>25576_125</td>\n",
       "      <td>25576</td>\n",
       "      <td>125</td>\n",
       "      <td>-5.406</td>\n",
       "      <td>A guy walked past a mental hospital and heard ...</td>\n",
       "    </tr>\n",
       "    <tr>\n",
       "      <th>3</th>\n",
       "      <td>37740_125</td>\n",
       "      <td>37740</td>\n",
       "      <td>125</td>\n",
       "      <td>2.188</td>\n",
       "      <td>A guy walked past a mental hospital and heard ...</td>\n",
       "    </tr>\n",
       "    <tr>\n",
       "      <th>4</th>\n",
       "      <td>14386_125</td>\n",
       "      <td>14386</td>\n",
       "      <td>125</td>\n",
       "      <td>6.844</td>\n",
       "      <td>A guy walked past a mental hospital and heard ...</td>\n",
       "    </tr>\n",
       "  </tbody>\n",
       "</table>\n",
       "</div>"
      ],
      "text/plain": [
       "          id  user_id  joke_id  Rating  \\\n",
       "0   1139_125     1139      125   1.312   \n",
       "1  17332_125    17332      125   1.875   \n",
       "2  25576_125    25576      125  -5.406   \n",
       "3  37740_125    37740      125   2.188   \n",
       "4  14386_125    14386      125   6.844   \n",
       "\n",
       "                                           joke_text  \n",
       "0  A guy walked past a mental hospital and heard ...  \n",
       "1  A guy walked past a mental hospital and heard ...  \n",
       "2  A guy walked past a mental hospital and heard ...  \n",
       "3  A guy walked past a mental hospital and heard ...  \n",
       "4  A guy walked past a mental hospital and heard ...  "
      ]
     },
     "execution_count": 8,
     "metadata": {},
     "output_type": "execute_result"
    }
   ],
   "source": [
    "df = pd.merge(train,data,on='joke_id')\n",
    "df.head()"
   ]
  },
  {
   "cell_type": "code",
   "execution_count": 9,
   "metadata": {},
   "outputs": [],
   "source": [
    "test = pd.read_csv(\"test.csv\")"
   ]
  },
  {
   "cell_type": "code",
   "execution_count": 10,
   "metadata": {},
   "outputs": [
    {
     "data": {
      "text/plain": [
       "(537880, 3)"
      ]
     },
     "execution_count": 10,
     "metadata": {},
     "output_type": "execute_result"
    }
   ],
   "source": [
    "test.shape"
   ]
  },
  {
   "cell_type": "code",
   "execution_count": 11,
   "metadata": {},
   "outputs": [
    {
     "name": "stderr",
     "output_type": "stream",
     "text": [
      "C:\\ProgramData\\Anaconda3\\lib\\site-packages\\pandas\\core\\frame.py:6201: FutureWarning: Sorting because non-concatenation axis is not aligned. A future version\n",
      "of pandas will change to not sort by default.\n",
      "\n",
      "To accept the future behavior, pass 'sort=True'.\n",
      "\n",
      "To retain the current behavior and silence the warning, pass sort=False\n",
      "\n",
      "  sort=sort)\n"
     ]
    },
    {
     "data": {
      "text/plain": [
       "(647086, 5)"
      ]
     },
     "execution_count": 11,
     "metadata": {},
     "output_type": "execute_result"
    }
   ],
   "source": [
    "combi = df.append(test, ignore_index=True)\n",
    "combi.shape"
   ]
  },
  {
   "cell_type": "code",
   "execution_count": 12,
   "metadata": {},
   "outputs": [
    {
     "data": {
      "text/html": [
       "<div>\n",
       "<style scoped>\n",
       "    .dataframe tbody tr th:only-of-type {\n",
       "        vertical-align: middle;\n",
       "    }\n",
       "\n",
       "    .dataframe tbody tr th {\n",
       "        vertical-align: top;\n",
       "    }\n",
       "\n",
       "    .dataframe thead th {\n",
       "        text-align: right;\n",
       "    }\n",
       "</style>\n",
       "<table border=\"1\" class=\"dataframe\">\n",
       "  <thead>\n",
       "    <tr style=\"text-align: right;\">\n",
       "      <th></th>\n",
       "      <th>Rating</th>\n",
       "      <th>id</th>\n",
       "      <th>joke_id</th>\n",
       "      <th>joke_text</th>\n",
       "      <th>user_id</th>\n",
       "    </tr>\n",
       "  </thead>\n",
       "  <tbody>\n",
       "    <tr>\n",
       "      <th>0</th>\n",
       "      <td>1.312</td>\n",
       "      <td>1139_125</td>\n",
       "      <td>125</td>\n",
       "      <td>A guy walked past a mental hospital and heard ...</td>\n",
       "      <td>1139</td>\n",
       "    </tr>\n",
       "    <tr>\n",
       "      <th>1</th>\n",
       "      <td>1.875</td>\n",
       "      <td>17332_125</td>\n",
       "      <td>125</td>\n",
       "      <td>A guy walked past a mental hospital and heard ...</td>\n",
       "      <td>17332</td>\n",
       "    </tr>\n",
       "    <tr>\n",
       "      <th>2</th>\n",
       "      <td>-5.406</td>\n",
       "      <td>25576_125</td>\n",
       "      <td>125</td>\n",
       "      <td>A guy walked past a mental hospital and heard ...</td>\n",
       "      <td>25576</td>\n",
       "    </tr>\n",
       "    <tr>\n",
       "      <th>3</th>\n",
       "      <td>2.188</td>\n",
       "      <td>37740_125</td>\n",
       "      <td>125</td>\n",
       "      <td>A guy walked past a mental hospital and heard ...</td>\n",
       "      <td>37740</td>\n",
       "    </tr>\n",
       "    <tr>\n",
       "      <th>4</th>\n",
       "      <td>6.844</td>\n",
       "      <td>14386_125</td>\n",
       "      <td>125</td>\n",
       "      <td>A guy walked past a mental hospital and heard ...</td>\n",
       "      <td>14386</td>\n",
       "    </tr>\n",
       "  </tbody>\n",
       "</table>\n",
       "</div>"
      ],
      "text/plain": [
       "   Rating         id  joke_id  \\\n",
       "0   1.312   1139_125      125   \n",
       "1   1.875  17332_125      125   \n",
       "2  -5.406  25576_125      125   \n",
       "3   2.188  37740_125      125   \n",
       "4   6.844  14386_125      125   \n",
       "\n",
       "                                           joke_text  user_id  \n",
       "0  A guy walked past a mental hospital and heard ...     1139  \n",
       "1  A guy walked past a mental hospital and heard ...    17332  \n",
       "2  A guy walked past a mental hospital and heard ...    25576  \n",
       "3  A guy walked past a mental hospital and heard ...    37740  \n",
       "4  A guy walked past a mental hospital and heard ...    14386  "
      ]
     },
     "execution_count": 12,
     "metadata": {},
     "output_type": "execute_result"
    }
   ],
   "source": [
    "combi.head()"
   ]
  },
  {
   "cell_type": "code",
   "execution_count": 13,
   "metadata": {},
   "outputs": [],
   "source": [
    "import matplotlib.pyplot as plt\n",
    "import seaborn as sns\n",
    "sns.set_style('white')\n",
    "%matplotlib inline\n",
    "import warnings\n",
    "warnings.filterwarnings('ignore')"
   ]
  },
  {
   "cell_type": "code",
   "execution_count": 14,
   "metadata": {},
   "outputs": [
    {
     "data": {
      "text/plain": [
       "joke_text\n",
       "Hillary, Bill Clinton and the Pope are sitting together on an airplane. Bill says, \"I could throw one thousand-dollar bill out of this plane and make one person very happy.\" Hillary says, \"I could throw 10 hundred-dollar bills out of the plane and make 10 people very happy.\" The Pope chips in and says, \"I could throw Bill out of the airplane and make the whole country happy.\"                                                                                                                                                                                                                                                                                                                                                                                                                                                                                                                                                                                                                                                                                                                                                                                                                                                                                                                                                                                       4.325200\n",
       "On the first day of college, the Dean addressed the students, pointing out some of the rules: \"The female dormitory will be out-of-bounds for all male students and the male dormitory to the female students. Anybody caught breaking this rule will be finded $20 the first time.\" He continued, \"Anybody caught breaking this rule the second time will be fined $60. Being caught a third time will cost you a fine of $180. Are there any questions?\" At this point, a male student in the crowd inquired: \"How much for a season pass?\"                                                                                                                                                                                                                                                                                                                                                                                                                                                                                                                                                                                                                                                                                                                                                                                                                                    3.731712\n",
       "A group of girlfriends is on vacation when they see a 5-story hotel with a sign that reads: \"For Women Only.\" Since they are without their boyfriends and husbands, they decide to go in. The bouncer, a very attractive guy, explains to them how it works. \"We have 5 floors. Go up floor by floor, and once you find what you are looking for, you can stay there. It's easy to decide since each floor has a sign telling you what's inside.\" So they start going up and on the first floor the sign reads: \"All the men on this floor are short and plain.\" The friends laugh and without hesitation move on to the next floor. The sign on the second floor reads: \"All the men here are short and handsome.\" Still, this isn't good enough, so the friends continue on up. They reach the third floor and the sign reads: \"All the men here are tall and plain.\" They still want to do better, and so, knowing there are still two floors left, they continued on up. On the fourth floor, the sign is perfect: \"All the men here are tall and handsome.\" The women get all excited and are going in when they realize that there is still one floor left. Wondering what they are missing, they head on up to the fifth floor. There they find a sign that reads: \"There are no men here. This floor was built only to prove that there is no way to please a woman.\"    3.726507\n",
       "A couple of hunters are out in the woods in the deep south when one of them falls to the ground. He doesn't seem to be breathing, and his eyes are rolled back in his head. The other guy whips out his cell phone and calls 911. He gasps to the operator, \"My friend is dead! What can I do?\" The operator, in a calm and soothing voice, says, \"Alright, take it easy. I can help. First, let's make sure he's dead.\" There is silence, and then a gun shot is heard. The hunter comes back on the line. \"Okay. Now what??\"                                                                                                                                                                                                                                                                                                                                                                                                                                                                                                                                                                                                                                                                                                                                                                                                                                                   3.685502\n",
       "An explorer in the deepest Amazon suddenly finds himself surrounded by a bloodthirsty group of natives. Upon surveying the situation, he says quietly to himself, \"Oh God, I'm screwed.\" The sky darkens and a voice booms out, \"No, you are NOT screwed. Pick up that stone at your feet and bash in the head of the chief standing in front of you.\" So with the stone he bashes the life out of the chief. He stands above the lifeless body, breathing heavily and looking at 100 angry natives... The voice booms out again, \"Okay....NOW you're screwed.\"                                                                                                                                                                                                                                                                                                                                                                                                                                                                                                                                                                                                                                                                                                                                                                                                                  3.655068\n",
       "Name: Rating, dtype: float64"
      ]
     },
     "execution_count": 14,
     "metadata": {},
     "output_type": "execute_result"
    }
   ],
   "source": [
    "combi.groupby('joke_text')['Rating'].mean().sort_values(ascending=False).head()"
   ]
  },
  {
   "cell_type": "code",
   "execution_count": 15,
   "metadata": {},
   "outputs": [
    {
     "data": {
      "text/plain": [
       "joke_text\n",
       "How many men does it take to screw in a light bulb? One. Men will screw anything.                      2859\n",
       "How many feminists does it take to screw in a light bulb? That's not funny.                            2836\n",
       "Q: What did the blind person say when given some matzah? A: Who the hell wrote this?                   2803\n",
       "Q. Did you hear about the dyslexic devil worshiper? A. He sold his soul to Santa.                      2797\n",
       "They asked the Japanese visitor if they have elections in his country. \"Every morning,\" he answers.    2776\n",
       "Name: Rating, dtype: int64"
      ]
     },
     "execution_count": 15,
     "metadata": {},
     "output_type": "execute_result"
    }
   ],
   "source": [
    "combi.groupby('joke_text')['Rating'].count().sort_values(ascending=False).head()"
   ]
  },
  {
   "cell_type": "code",
   "execution_count": 16,
   "metadata": {},
   "outputs": [
    {
     "data": {
      "text/html": [
       "<div>\n",
       "<style scoped>\n",
       "    .dataframe tbody tr th:only-of-type {\n",
       "        vertical-align: middle;\n",
       "    }\n",
       "\n",
       "    .dataframe tbody tr th {\n",
       "        vertical-align: top;\n",
       "    }\n",
       "\n",
       "    .dataframe thead th {\n",
       "        text-align: right;\n",
       "    }\n",
       "</style>\n",
       "<table border=\"1\" class=\"dataframe\">\n",
       "  <thead>\n",
       "    <tr style=\"text-align: right;\">\n",
       "      <th></th>\n",
       "      <th>Rating</th>\n",
       "    </tr>\n",
       "    <tr>\n",
       "      <th>joke_text</th>\n",
       "      <th></th>\n",
       "    </tr>\n",
       "  </thead>\n",
       "  <tbody>\n",
       "    <tr>\n",
       "      <th>(A) The Japanese eat very little fat and suffer fewer heart attacks than the British or Americans. (B) On the other hand, the French eat a lot of fat and also suffer fewer heart attacks than the British or Americans. (C) The Chinese drink very little red wine and suffer fewer heart attacks than the British or Americans. (D) The Italians drink excessive amounts of red wine and also suffer fewer heart attacks than the British or Americans. (E) Conclusion: Eat and drink what you like. It's speaking English that kills you.</th>\n",
       "      <td>2.563397</td>\n",
       "    </tr>\n",
       "    <tr>\n",
       "      <th>A Briton, a Frenchman and a Russian are viewing a painting of Adam and Eve frolicking in the Garden of Eden. \"Look at their reserve, their calm,\" muses the Brit. \"They must be British.\" \"Nonsense,\" the Frenchman disagrees. \"They're naked, and so beautiful. Clearly, they are French.\" \"No way! They have no clothes and no shelter,\" the Russian points out, \"They have only an apple to eat, and they are being told they live in a paradise. Obviously, they are Russian.\"</th>\n",
       "      <td>3.370223</td>\n",
       "    </tr>\n",
       "    <tr>\n",
       "      <th>A Czechoslovakian man felt his eyesight was growing steadily worse, and felt it was time to go see an optometrist. The doctor started with some simple testing, and showed him a standard eye chart with letters of diminishing size: CRKBNWXSKZY... \"Can you read this?\" the doctor asked. \"Read it?\" the Czech answered. \"Doc, I know him!\"</th>\n",
       "      <td>2.153866</td>\n",
       "    </tr>\n",
       "    <tr>\n",
       "      <th>A Jewish young man was seeing a psychiatrist for an eating and sleeping disorder. \"I am so obsessed with my mother...As soon as I go to sleep, I start dreaming, and everyone in my dream turns into my mother. I wake up in such a state, and all I can do is go downstairs and eat a piece of toast.\" The psychiatrist replies, \"What, just one piece of toast, for a big boy like you?\"</th>\n",
       "      <td>-0.129281</td>\n",
       "    </tr>\n",
       "    <tr>\n",
       "      <th>A Panda walks into a bar, sits down at a table and orders a beer and a double cheeseburger. After he is finished eating, he pulls out a gun and rips the place with gunfire. Patrons scatter and dive under chairs and tables as the bear runs out the door. After ensuring that no one is hurt, the bartender races out the door, and calls after the bear: \"What the hell did you do that for?\" The bear calls back, \"I'm a Panda. Look it up in the dictionary.\" The bartender returns, pulls out his dictionary. panda: \\Pan\"da\\, n. (Zo[\"o]l.) A small Asiatic mammal (Ailurus fulgens) having fine soft fur. It is related to the bears, and inhabits the mountains of Northern India. Eats shoots and leaves.</th>\n",
       "      <td>1.802013</td>\n",
       "    </tr>\n",
       "  </tbody>\n",
       "</table>\n",
       "</div>"
      ],
      "text/plain": [
       "                                                      Rating\n",
       "joke_text                                                   \n",
       "(A) The Japanese eat very little fat and suffer...  2.563397\n",
       "A Briton, a Frenchman and a Russian are viewing...  3.370223\n",
       "A Czechoslovakian man felt his eyesight was gro...  2.153866\n",
       "A Jewish young man was seeing a psychiatrist fo... -0.129281\n",
       "A Panda walks into a bar, sits down at a table ...  1.802013"
      ]
     },
     "execution_count": 16,
     "metadata": {},
     "output_type": "execute_result"
    }
   ],
   "source": [
    "ratings = pd.DataFrame(combi.groupby('joke_text')['Rating'].mean())\n",
    "ratings.head()"
   ]
  },
  {
   "cell_type": "code",
   "execution_count": 17,
   "metadata": {},
   "outputs": [
    {
     "data": {
      "text/html": [
       "<div>\n",
       "<style scoped>\n",
       "    .dataframe tbody tr th:only-of-type {\n",
       "        vertical-align: middle;\n",
       "    }\n",
       "\n",
       "    .dataframe tbody tr th {\n",
       "        vertical-align: top;\n",
       "    }\n",
       "\n",
       "    .dataframe thead th {\n",
       "        text-align: right;\n",
       "    }\n",
       "</style>\n",
       "<table border=\"1\" class=\"dataframe\">\n",
       "  <thead>\n",
       "    <tr style=\"text-align: right;\">\n",
       "      <th></th>\n",
       "      <th>Rating</th>\n",
       "      <th>num of ratings</th>\n",
       "    </tr>\n",
       "    <tr>\n",
       "      <th>joke_text</th>\n",
       "      <th></th>\n",
       "      <th></th>\n",
       "    </tr>\n",
       "  </thead>\n",
       "  <tbody>\n",
       "    <tr>\n",
       "      <th>(A) The Japanese eat very little fat and suffer fewer heart attacks than the British or Americans. (B) On the other hand, the French eat a lot of fat and also suffer fewer heart attacks than the British or Americans. (C) The Chinese drink very little red wine and suffer fewer heart attacks than the British or Americans. (D) The Italians drink excessive amounts of red wine and also suffer fewer heart attacks than the British or Americans. (E) Conclusion: Eat and drink what you like. It's speaking English that kills you.</th>\n",
       "      <td>2.563397</td>\n",
       "      <td>761</td>\n",
       "    </tr>\n",
       "    <tr>\n",
       "      <th>A Briton, a Frenchman and a Russian are viewing a painting of Adam and Eve frolicking in the Garden of Eden. \"Look at their reserve, their calm,\" muses the Brit. \"They must be British.\" \"Nonsense,\" the Frenchman disagrees. \"They're naked, and so beautiful. Clearly, they are French.\" \"No way! They have no clothes and no shelter,\" the Russian points out, \"They have only an apple to eat, and they are being told they live in a paradise. Obviously, they are Russian.\"</th>\n",
       "      <td>3.370223</td>\n",
       "      <td>1110</td>\n",
       "    </tr>\n",
       "    <tr>\n",
       "      <th>A Czechoslovakian man felt his eyesight was growing steadily worse, and felt it was time to go see an optometrist. The doctor started with some simple testing, and showed him a standard eye chart with letters of diminishing size: CRKBNWXSKZY... \"Can you read this?\" the doctor asked. \"Read it?\" the Czech answered. \"Doc, I know him!\"</th>\n",
       "      <td>2.153866</td>\n",
       "      <td>589</td>\n",
       "    </tr>\n",
       "    <tr>\n",
       "      <th>A Jewish young man was seeing a psychiatrist for an eating and sleeping disorder. \"I am so obsessed with my mother...As soon as I go to sleep, I start dreaming, and everyone in my dream turns into my mother. I wake up in such a state, and all I can do is go downstairs and eat a piece of toast.\" The psychiatrist replies, \"What, just one piece of toast, for a big boy like you?\"</th>\n",
       "      <td>-0.129281</td>\n",
       "      <td>417</td>\n",
       "    </tr>\n",
       "    <tr>\n",
       "      <th>A Panda walks into a bar, sits down at a table and orders a beer and a double cheeseburger. After he is finished eating, he pulls out a gun and rips the place with gunfire. Patrons scatter and dive under chairs and tables as the bear runs out the door. After ensuring that no one is hurt, the bartender races out the door, and calls after the bear: \"What the hell did you do that for?\" The bear calls back, \"I'm a Panda. Look it up in the dictionary.\" The bartender returns, pulls out his dictionary. panda: \\Pan\"da\\, n. (Zo[\"o]l.) A small Asiatic mammal (Ailurus fulgens) having fine soft fur. It is related to the bears, and inhabits the mountains of Northern India. Eats shoots and leaves.</th>\n",
       "      <td>1.802013</td>\n",
       "      <td>711</td>\n",
       "    </tr>\n",
       "  </tbody>\n",
       "</table>\n",
       "</div>"
      ],
      "text/plain": [
       "                                                      Rating  num of ratings\n",
       "joke_text                                                                   \n",
       "(A) The Japanese eat very little fat and suffer...  2.563397             761\n",
       "A Briton, a Frenchman and a Russian are viewing...  3.370223            1110\n",
       "A Czechoslovakian man felt his eyesight was gro...  2.153866             589\n",
       "A Jewish young man was seeing a psychiatrist fo... -0.129281             417\n",
       "A Panda walks into a bar, sits down at a table ...  1.802013             711"
      ]
     },
     "execution_count": 17,
     "metadata": {},
     "output_type": "execute_result"
    }
   ],
   "source": [
    "ratings['num of ratings'] = pd.DataFrame(combi.groupby('joke_text')['Rating'].count())\n",
    "ratings.head()"
   ]
  },
  {
   "cell_type": "code",
   "execution_count": 18,
   "metadata": {},
   "outputs": [
    {
     "data": {
      "text/plain": [
       "<matplotlib.axes._subplots.AxesSubplot at 0xba387b8>"
      ]
     },
     "execution_count": 18,
     "metadata": {},
     "output_type": "execute_result"
    },
    {
     "data": {
      "image/png": "[encoded data removed]",
      "text/plain": [
       "<Figure size 720x288 with 1 Axes>"
      ]
     },
     "metadata": {},
     "output_type": "display_data"
    }
   ],
   "source": [
    "plt.figure(figsize=(10,4))\n",
    "ratings['num of ratings'].hist(bins=70)"
   ]
  },
  {
   "cell_type": "code",
   "execution_count": 19,
   "metadata": {},
   "outputs": [
    {
     "data": {
      "text/plain": [
       "<matplotlib.axes._subplots.AxesSubplot at 0xba0f198>"
      ]
     },
     "execution_count": 19,
     "metadata": {},
     "output_type": "execute_result"
    },
    {
     "data": {
      "image/png": "[encoded data removed]",
      "text/plain": [
       "<Figure size 720x288 with 1 Axes>"
      ]
     },
     "metadata": {},
     "output_type": "display_data"
    }
   ],
   "source": [
    "plt.figure(figsize=(10,4))\n",
    "ratings['Rating'].hist(bins=100)"
   ]
  },
  {
   "cell_type": "code",
   "execution_count": 20,
   "metadata": {},
   "outputs": [
    {
     "data": {
      "text/plain": [
       "<seaborn.axisgrid.JointGrid at 0xb9b32b0>"
      ]
     },
     "execution_count": 20,
     "metadata": {},
     "output_type": "execute_result"
    },
    {
     "data": {
      "image/png": "[encoded data removed]",
      "text/plain": [
       "<Figure size 432x432 with 3 Axes>"
      ]
     },
     "metadata": {},
     "output_type": "display_data"
    }
   ],
   "source": [
    "sns.jointplot(x='Rating',y='num of ratings',data=ratings,alpha=0.5)"
   ]
  },
  {
   "cell_type": "code",
   "execution_count": 21,
   "metadata": {},
   "outputs": [
    {
     "data": {
      "text/html": [
       "<div>\n",
       "<style scoped>\n",
       "    .dataframe tbody tr th:only-of-type {\n",
       "        vertical-align: middle;\n",
       "    }\n",
       "\n",
       "    .dataframe tbody tr th {\n",
       "        vertical-align: top;\n",
       "    }\n",
       "\n",
       "    .dataframe thead th {\n",
       "        text-align: right;\n",
       "    }\n",
       "</style>\n",
       "<table border=\"1\" class=\"dataframe\">\n",
       "  <thead>\n",
       "    <tr style=\"text-align: right;\">\n",
       "      <th>joke_text</th>\n",
       "      <th>(A) The Japanese eat very little fat and suffer fewer heart attacks than the British or Americans. (B) On the other hand, the French eat a lot of fat and also suffer fewer heart attacks than the British or Americans. (C) The Chinese drink very little red wine and suffer fewer heart attacks than the British or Americans. (D) The Italians drink excessive amounts of red wine and also suffer fewer heart attacks than the British or Americans. (E) Conclusion: Eat and drink what you like. It's speaking English that kills you.</th>\n",
       "      <th>A Briton, a Frenchman and a Russian are viewing a painting of Adam and Eve frolicking in the Garden of Eden. \"Look at their reserve, their calm,\" muses the Brit. \"They must be British.\" \"Nonsense,\" the Frenchman disagrees. \"They're naked, and so beautiful. Clearly, they are French.\" \"No way! They have no clothes and no shelter,\" the Russian points out, \"They have only an apple to eat, and they are being told they live in a paradise. Obviously, they are Russian.\"</th>\n",
       "      <th>A Czechoslovakian man felt his eyesight was growing steadily worse, and felt it was time to go see an optometrist. The doctor started with some simple testing, and showed him a standard eye chart with letters of diminishing size: CRKBNWXSKZY... \"Can you read this?\" the doctor asked. \"Read it?\" the Czech answered. \"Doc, I know him!\"</th>\n",
       "      <th>A Jewish young man was seeing a psychiatrist for an eating and sleeping disorder. \"I am so obsessed with my mother...As soon as I go to sleep, I start dreaming, and everyone in my dream turns into my mother. I wake up in such a state, and all I can do is go downstairs and eat a piece of toast.\" The psychiatrist replies, \"What, just one piece of toast, for a big boy like you?\"</th>\n",
       "      <th>A Panda walks into a bar, sits down at a table and orders a beer and a double cheeseburger. After he is finished eating, he pulls out a gun and rips the place with gunfire. Patrons scatter and dive under chairs and tables as the bear runs out the door. After ensuring that no one is hurt, the bartender races out the door, and calls after the bear: \"What the hell did you do that for?\" The bear calls back, \"I'm a Panda. Look it up in the dictionary.\" The bartender returns, pulls out his dictionary. panda: \\Pan\"da\\, n. (Zo[\"o]l.) A small Asiatic mammal (Ailurus fulgens) having fine soft fur. It is related to the bears, and inhabits the mountains of Northern India. Eats shoots and leaves.</th>\n",
       "      <th>A blonde, brunette, and a red head are all lined up to be shot to death by a firing squad. The brunette shouts, \"Tornado!\" and the riflemen turn around to see the tornado. It isn't there, and the brunette uses that time to escape. The red head yells, \"Lightning!\" and the riflemen again turn to see the disaster, yet there is no disaster and the red head escapes. The blonde yells, \"Fire!\" The riflemen do.</th>\n",
       "      <th>A boy comes home from school and tells his mother that he got a part in the school play. \"What part?\" the mother asks. \"I play a Jewish husband,\" the boy replies. \"Go back to school and tell your teacher that you want a speaking role!\"</th>\n",
       "      <th>A bus station is where a bus stops. A train station is where a train stops. On my desk I have a work station...</th>\n",
       "      <th>A couple has been married for 75 years. For the husband's 95th birthday, his wife decides to surprise him by hiring a prostitute. That day, the doorbell rings. The husband uses his walker to get to the door and opens it. A 21-year-old in a latex outfit smiles and says, \"Hi, I here to give you super sex!\" The old man says, \"I'll take the soup.\"</th>\n",
       "      <th>A couple of hunters are out in the woods in the deep south when one of them falls to the ground. He doesn't seem to be breathing, and his eyes are rolled back in his head. The other guy whips out his cell phone and calls 911. He gasps to the operator, \"My friend is dead! What can I do?\" The operator, in a calm and soothing voice, says, \"Alright, take it easy. I can help. First, let's make sure he's dead.\" There is silence, and then a gun shot is heard. The hunter comes back on the line. \"Okay. Now what??\"</th>\n",
       "      <th>...</th>\n",
       "      <th>What do you call an American in the finals of the world cup? \"Hey beer man!\"</th>\n",
       "      <th>What do you get when you run over a parakeet with a lawnmower? Shredded tweet.</th>\n",
       "      <th>What does an atheist say during an orgasm? \"Oh Darwin! Oh Darwin!\"</th>\n",
       "      <th>What is the difference between men and women? A woman wants one man to satisfy her every need. A man wants every woman to satisfy his one need.</th>\n",
       "      <th>What is the rallying cry of the International Dyslexic Pride movement? Dyslexics Untie!</th>\n",
       "      <th>What's the difference between a Macintosh and an Etch-a-Sketch? You don't have to shake the Mac to clear the screen.</th>\n",
       "      <th>What's the difference between a used tire and 365 used condoms? One's a Goodyear, the other's a great year.</th>\n",
       "      <th>When most people claim to be \"killing time\", it's only an expression. When Chuck Norris kills time, the minutes actually cease to exist.</th>\n",
       "      <th>When my three-year-old son opened the birthday gift from his grandmother, he discovered a water pistol. He squealed with delight and headed for the nearest sink. I was not so pleased. I turned to Mom and said, \"I'm surprised at you. Don't you remember how we used to drive you crazy with water guns?\" Mom smiled and then replied...\"I remember.\"</th>\n",
       "      <th>Why are there so many Jones's in the phone book? Because they all have phones.</th>\n",
       "    </tr>\n",
       "    <tr>\n",
       "      <th>user_id</th>\n",
       "      <th></th>\n",
       "      <th></th>\n",
       "      <th></th>\n",
       "      <th></th>\n",
       "      <th></th>\n",
       "      <th></th>\n",
       "      <th></th>\n",
       "      <th></th>\n",
       "      <th></th>\n",
       "      <th></th>\n",
       "      <th></th>\n",
       "      <th></th>\n",
       "      <th></th>\n",
       "      <th></th>\n",
       "      <th></th>\n",
       "      <th></th>\n",
       "      <th></th>\n",
       "      <th></th>\n",
       "      <th></th>\n",
       "      <th></th>\n",
       "      <th></th>\n",
       "    </tr>\n",
       "  </thead>\n",
       "  <tbody>\n",
       "    <tr>\n",
       "      <th>1</th>\n",
       "      <td>NaN</td>\n",
       "      <td>NaN</td>\n",
       "      <td>NaN</td>\n",
       "      <td>NaN</td>\n",
       "      <td>NaN</td>\n",
       "      <td>NaN</td>\n",
       "      <td>NaN</td>\n",
       "      <td>NaN</td>\n",
       "      <td>NaN</td>\n",
       "      <td>NaN</td>\n",
       "      <td>...</td>\n",
       "      <td>NaN</td>\n",
       "      <td>NaN</td>\n",
       "      <td>NaN</td>\n",
       "      <td>NaN</td>\n",
       "      <td>NaN</td>\n",
       "      <td>NaN</td>\n",
       "      <td>NaN</td>\n",
       "      <td>NaN</td>\n",
       "      <td>NaN</td>\n",
       "      <td>NaN</td>\n",
       "    </tr>\n",
       "    <tr>\n",
       "      <th>2</th>\n",
       "      <td>NaN</td>\n",
       "      <td>NaN</td>\n",
       "      <td>NaN</td>\n",
       "      <td>NaN</td>\n",
       "      <td>NaN</td>\n",
       "      <td>NaN</td>\n",
       "      <td>NaN</td>\n",
       "      <td>NaN</td>\n",
       "      <td>NaN</td>\n",
       "      <td>NaN</td>\n",
       "      <td>...</td>\n",
       "      <td>NaN</td>\n",
       "      <td>NaN</td>\n",
       "      <td>NaN</td>\n",
       "      <td>NaN</td>\n",
       "      <td>NaN</td>\n",
       "      <td>NaN</td>\n",
       "      <td>NaN</td>\n",
       "      <td>NaN</td>\n",
       "      <td>NaN</td>\n",
       "      <td>NaN</td>\n",
       "    </tr>\n",
       "    <tr>\n",
       "      <th>3</th>\n",
       "      <td>NaN</td>\n",
       "      <td>NaN</td>\n",
       "      <td>NaN</td>\n",
       "      <td>NaN</td>\n",
       "      <td>NaN</td>\n",
       "      <td>NaN</td>\n",
       "      <td>NaN</td>\n",
       "      <td>NaN</td>\n",
       "      <td>NaN</td>\n",
       "      <td>NaN</td>\n",
       "      <td>...</td>\n",
       "      <td>NaN</td>\n",
       "      <td>NaN</td>\n",
       "      <td>NaN</td>\n",
       "      <td>NaN</td>\n",
       "      <td>NaN</td>\n",
       "      <td>NaN</td>\n",
       "      <td>NaN</td>\n",
       "      <td>NaN</td>\n",
       "      <td>NaN</td>\n",
       "      <td>NaN</td>\n",
       "    </tr>\n",
       "    <tr>\n",
       "      <th>4</th>\n",
       "      <td>NaN</td>\n",
       "      <td>NaN</td>\n",
       "      <td>NaN</td>\n",
       "      <td>NaN</td>\n",
       "      <td>NaN</td>\n",
       "      <td>NaN</td>\n",
       "      <td>NaN</td>\n",
       "      <td>NaN</td>\n",
       "      <td>NaN</td>\n",
       "      <td>NaN</td>\n",
       "      <td>...</td>\n",
       "      <td>NaN</td>\n",
       "      <td>NaN</td>\n",
       "      <td>NaN</td>\n",
       "      <td>NaN</td>\n",
       "      <td>NaN</td>\n",
       "      <td>NaN</td>\n",
       "      <td>NaN</td>\n",
       "      <td>NaN</td>\n",
       "      <td>NaN</td>\n",
       "      <td>NaN</td>\n",
       "    </tr>\n",
       "    <tr>\n",
       "      <th>5</th>\n",
       "      <td>NaN</td>\n",
       "      <td>NaN</td>\n",
       "      <td>NaN</td>\n",
       "      <td>NaN</td>\n",
       "      <td>NaN</td>\n",
       "      <td>NaN</td>\n",
       "      <td>NaN</td>\n",
       "      <td>NaN</td>\n",
       "      <td>NaN</td>\n",
       "      <td>NaN</td>\n",
       "      <td>...</td>\n",
       "      <td>NaN</td>\n",
       "      <td>NaN</td>\n",
       "      <td>NaN</td>\n",
       "      <td>NaN</td>\n",
       "      <td>NaN</td>\n",
       "      <td>NaN</td>\n",
       "      <td>NaN</td>\n",
       "      <td>NaN</td>\n",
       "      <td>NaN</td>\n",
       "      <td>NaN</td>\n",
       "    </tr>\n",
       "  </tbody>\n",
       "</table>\n",
       "<p>5 rows × 139 columns</p>\n",
       "</div>"
      ],
      "text/plain": [
       "joke_text  (A) The Japanese eat very little fat and suffer fewer heart attacks than the British or Americans. (B) On the other hand, the French eat a lot of fat and also suffer fewer heart attacks than the British or Americans. (C) The Chinese drink very little red wine and suffer fewer heart attacks than the British or Americans. (D) The Italians drink excessive amounts of red wine and also suffer fewer heart attacks than the British or Americans. (E) Conclusion: Eat and drink what you like. It's speaking English that kills you.  \\\n",
       "user_id                                                                                                                                                                                                                                                                                                                                                                                                                                                                                                                                                   \n",
       "1                                                        NaN                                                                                                                                                                                                                                                                                                                                                                                                                                                                                              \n",
       "2                                                        NaN                                                                                                                                                                                                                                                                                                                                                                                                                                                                                              \n",
       "3                                                        NaN                                                                                                                                                                                                                                                                                                                                                                                                                                                                                              \n",
       "4                                                        NaN                                                                                                                                                                                                                                                                                                                                                                                                                                                                                              \n",
       "5                                                        NaN                                                                                                                                                                                                                                                                                                                                                                                                                                                                                              \n",
       "\n",
       "joke_text  A Briton, a Frenchman and a Russian are viewing a painting of Adam and Eve frolicking in the Garden of Eden. \"Look at their reserve, their calm,\" muses the Brit. \"They must be British.\" \"Nonsense,\" the Frenchman disagrees. \"They're naked, and so beautiful. Clearly, they are French.\" \"No way! They have no clothes and no shelter,\" the Russian points out, \"They have only an apple to eat, and they are being told they live in a paradise. Obviously, they are Russian.\"  \\\n",
       "user_id                                                                                                                                                                                                                                                                                                                                                                                                                                                                                         \n",
       "1                                                        NaN                                                                                                                                                                                                                                                                                                                                                                                                                                    \n",
       "2                                                        NaN                                                                                                                                                                                                                                                                                                                                                                                                                                    \n",
       "3                                                        NaN                                                                                                                                                                                                                                                                                                                                                                                                                                    \n",
       "4                                                        NaN                                                                                                                                                                                                                                                                                                                                                                                                                                    \n",
       "5                                                        NaN                                                                                                                                                                                                                                                                                                                                                                                                                                    \n",
       "\n",
       "joke_text  A Czechoslovakian man felt his eyesight was growing steadily worse, and felt it was time to go see an optometrist. The doctor started with some simple testing, and showed him a standard eye chart with letters of diminishing size: CRKBNWXSKZY... \"Can you read this?\" the doctor asked. \"Read it?\" the Czech answered. \"Doc, I know him!\"  \\\n",
       "user_id                                                                                                                                                                                                                                                                                                                                                    \n",
       "1                                                        NaN                                                                                                                                                                                                                                                                                               \n",
       "2                                                        NaN                                                                                                                                                                                                                                                                                               \n",
       "3                                                        NaN                                                                                                                                                                                                                                                                                               \n",
       "4                                                        NaN                                                                                                                                                                                                                                                                                               \n",
       "5                                                        NaN                                                                                                                                                                                                                                                                                               \n",
       "\n",
       "joke_text  A Jewish young man was seeing a psychiatrist for an eating and sleeping disorder. \"I am so obsessed with my mother...As soon as I go to sleep, I start dreaming, and everyone in my dream turns into my mother. I wake up in such a state, and all I can do is go downstairs and eat a piece of toast.\" The psychiatrist replies, \"What, just one piece of toast, for a big boy like you?\"  \\\n",
       "user_id                                                                                                                                                                                                                                                                                                                                                                                                 \n",
       "1                                                        NaN                                                                                                                                                                                                                                                                                                                                            \n",
       "2                                                        NaN                                                                                                                                                                                                                                                                                                                                            \n",
       "3                                                        NaN                                                                                                                                                                                                                                                                                                                                            \n",
       "4                                                        NaN                                                                                                                                                                                                                                                                                                                                            \n",
       "5                                                        NaN                                                                                                                                                                                                                                                                                                                                            \n",
       "\n",
       "joke_text  A Panda walks into a bar, sits down at a table and orders a beer and a double cheeseburger. After he is finished eating, he pulls out a gun and rips the place with gunfire. Patrons scatter and dive under chairs and tables as the bear runs out the door. After ensuring that no one is hurt, the bartender races out the door, and calls after the bear: \"What the hell did you do that for?\" The bear calls back, \"I'm a Panda. Look it up in the dictionary.\" The bartender returns, pulls out his dictionary. panda: \\Pan\"da\\, n. (Zo[\"o]l.) A small Asiatic mammal (Ailurus fulgens) having fine soft fur. It is related to the bears, and inhabits the mountains of Northern India. Eats shoots and leaves.  \\\n",
       "user_id                                                                                                                                                                                                                                                                                                                                                                                                                                                                                                                                                                                                                                                                                                                           \n",
       "1                                                        NaN                                                                                                                                                                                                                                                                                                                                                                                                                                                                                                                                                                                                                                                                      \n",
       "2                                                        NaN                                                                                                                                                                                                                                                                                                                                                                                                                                                                                                                                                                                                                                                                      \n",
       "3                                                        NaN                                                                                                                                                                                                                                                                                                                                                                                                                                                                                                                                                                                                                                                                      \n",
       "4                                                        NaN                                                                                                                                                                                                                                                                                                                                                                                                                                                                                                                                                                                                                                                                      \n",
       "5                                                        NaN                                                                                                                                                                                                                                                                                                                                                                                                                                                                                                                                                                                                                                                                      \n",
       "\n",
       "joke_text  A blonde, brunette, and a red head are all lined up to be shot to death by a firing squad. The brunette shouts, \"Tornado!\" and the riflemen turn around to see the tornado. It isn't there, and the brunette uses that time to escape. The red head yells, \"Lightning!\" and the riflemen again turn to see the disaster, yet there is no disaster and the red head escapes. The blonde yells, \"Fire!\" The riflemen do.  \\\n",
       "user_id                                                                                                                                                                                                                                                                                                                                                                                                                             \n",
       "1                                                        NaN                                                                                                                                                                                                                                                                                                                                                                        \n",
       "2                                                        NaN                                                                                                                                                                                                                                                                                                                                                                        \n",
       "3                                                        NaN                                                                                                                                                                                                                                                                                                                                                                        \n",
       "4                                                        NaN                                                                                                                                                                                                                                                                                                                                                                        \n",
       "5                                                        NaN                                                                                                                                                                                                                                                                                                                                                                        \n",
       "\n",
       "joke_text  A boy comes home from school and tells his mother that he got a part in the school play. \"What part?\" the mother asks. \"I play a Jewish husband,\" the boy replies. \"Go back to school and tell your teacher that you want a speaking role!\"  \\\n",
       "user_id                                                                                                                                                                                                                                                  \n",
       "1                                                        NaN                                                                                                                                                                                             \n",
       "2                                                        NaN                                                                                                                                                                                             \n",
       "3                                                        NaN                                                                                                                                                                                             \n",
       "4                                                        NaN                                                                                                                                                                                             \n",
       "5                                                        NaN                                                                                                                                                                                             \n",
       "\n",
       "joke_text  A bus station is where a bus stops. A train station is where a train stops. On my desk I have a work station...  \\\n",
       "user_id                                                                                                                      \n",
       "1                                                        NaN                                                                 \n",
       "2                                                        NaN                                                                 \n",
       "3                                                        NaN                                                                 \n",
       "4                                                        NaN                                                                 \n",
       "5                                                        NaN                                                                 \n",
       "\n",
       "joke_text  A couple has been married for 75 years. For the husband's 95th birthday, his wife decides to surprise him by hiring a prostitute. That day, the doorbell rings. The husband uses his walker to get to the door and opens it. A 21-year-old in a latex outfit smiles and says, \"Hi, I here to give you super sex!\" The old man says, \"I'll take the soup.\"  \\\n",
       "user_id                                                                                                                                                                                                                                                                                                                                                                \n",
       "1                                                        NaN                                                                                                                                                                                                                                                                                                           \n",
       "2                                                        NaN                                                                                                                                                                                                                                                                                                           \n",
       "3                                                        NaN                                                                                                                                                                                                                                                                                                           \n",
       "4                                                        NaN                                                                                                                                                                                                                                                                                                           \n",
       "5                                                        NaN                                                                                                                                                                                                                                                                                                           \n",
       "\n",
       "joke_text  A couple of hunters are out in the woods in the deep south when one of them falls to the ground. He doesn't seem to be breathing, and his eyes are rolled back in his head. The other guy whips out his cell phone and calls 911. He gasps to the operator, \"My friend is dead! What can I do?\" The operator, in a calm and soothing voice, says, \"Alright, take it easy. I can help. First, let's make sure he's dead.\" There is silence, and then a gun shot is heard. The hunter comes back on the line. \"Okay. Now what??\"  \\\n",
       "user_id                                                                                                                                                                                                                                                                                                                                                                                                                                                                                                                                     \n",
       "1                                                        NaN                                                                                                                                                                                                                                                                                                                                                                                                                                                                                \n",
       "2                                                        NaN                                                                                                                                                                                                                                                                                                                                                                                                                                                                                \n",
       "3                                                        NaN                                                                                                                                                                                                                                                                                                                                                                                                                                                                                \n",
       "4                                                        NaN                                                                                                                                                                                                                                                                                                                                                                                                                                                                                \n",
       "5                                                        NaN                                                                                                                                                                                                                                                                                                                                                                                                                                                                                \n",
       "\n",
       "joke_text                                       ...                                        \\\n",
       "user_id                                         ...                                         \n",
       "1                                               ...                                         \n",
       "2                                               ...                                         \n",
       "3                                               ...                                         \n",
       "4                                               ...                                         \n",
       "5                                               ...                                         \n",
       "\n",
       "joke_text  What do you call an American in the finals of the world cup? \"Hey beer man!\"  \\\n",
       "user_id                                                                                   \n",
       "1                                                        NaN                              \n",
       "2                                                        NaN                              \n",
       "3                                                        NaN                              \n",
       "4                                                        NaN                              \n",
       "5                                                        NaN                              \n",
       "\n",
       "joke_text  What do you get when you run over a parakeet with a lawnmower? Shredded tweet.  \\\n",
       "user_id                                                                                     \n",
       "1                                                        NaN                                \n",
       "2                                                        NaN                                \n",
       "3                                                        NaN                                \n",
       "4                                                        NaN                                \n",
       "5                                                        NaN                                \n",
       "\n",
       "joke_text  What does an atheist say during an orgasm? \"Oh Darwin! Oh Darwin!\"  \\\n",
       "user_id                                                                         \n",
       "1                                                        NaN                    \n",
       "2                                                        NaN                    \n",
       "3                                                        NaN                    \n",
       "4                                                        NaN                    \n",
       "5                                                        NaN                    \n",
       "\n",
       "joke_text  What is the difference between men and women? A woman wants one man to satisfy her every need. A man wants every woman to satisfy his one need.  \\\n",
       "user_id                                                                                                                                                      \n",
       "1                                                        NaN                                                                                                 \n",
       "2                                                        NaN                                                                                                 \n",
       "3                                                        NaN                                                                                                 \n",
       "4                                                        NaN                                                                                                 \n",
       "5                                                        NaN                                                                                                 \n",
       "\n",
       "joke_text  What is the rallying cry of the International Dyslexic Pride movement? Dyslexics Untie!  \\\n",
       "user_id                                                                                              \n",
       "1                                                        NaN                                         \n",
       "2                                                        NaN                                         \n",
       "3                                                        NaN                                         \n",
       "4                                                        NaN                                         \n",
       "5                                                        NaN                                         \n",
       "\n",
       "joke_text  What's the difference between a Macintosh and an Etch-a-Sketch? You don't have to shake the Mac to clear the screen.  \\\n",
       "user_id                                                                                                                           \n",
       "1                                                        NaN                                                                      \n",
       "2                                                        NaN                                                                      \n",
       "3                                                        NaN                                                                      \n",
       "4                                                        NaN                                                                      \n",
       "5                                                        NaN                                                                      \n",
       "\n",
       "joke_text  What's the difference between a used tire and 365 used condoms? One's a Goodyear, the other's a great year.  \\\n",
       "user_id                                                                                                                  \n",
       "1                                                        NaN                                                             \n",
       "2                                                        NaN                                                             \n",
       "3                                                        NaN                                                             \n",
       "4                                                        NaN                                                             \n",
       "5                                                        NaN                                                             \n",
       "\n",
       "joke_text  When most people claim to be \"killing time\", it's only an expression. When Chuck Norris kills time, the minutes actually cease to exist.  \\\n",
       "user_id                                                                                                                                               \n",
       "1                                                        NaN                                                                                          \n",
       "2                                                        NaN                                                                                          \n",
       "3                                                        NaN                                                                                          \n",
       "4                                                        NaN                                                                                          \n",
       "5                                                        NaN                                                                                          \n",
       "\n",
       "joke_text  When my three-year-old son opened the birthday gift from his grandmother, he discovered a water pistol. He squealed with delight and headed for the nearest sink. I was not so pleased. I turned to Mom and said, \"I'm surprised at you. Don't you remember how we used to drive you crazy with water guns?\" Mom smiled and then replied...\"I remember.\"  \\\n",
       "user_id                                                                                                                                                                                                                                                                                                                                                               \n",
       "1                                                        NaN                                                                                                                                                                                                                                                                                                          \n",
       "2                                                        NaN                                                                                                                                                                                                                                                                                                          \n",
       "3                                                        NaN                                                                                                                                                                                                                                                                                                          \n",
       "4                                                        NaN                                                                                                                                                                                                                                                                                                          \n",
       "5                                                        NaN                                                                                                                                                                                                                                                                                                          \n",
       "\n",
       "joke_text  Why are there so many Jones's in the phone book? Because they all have phones.  \n",
       "user_id                                                                                    \n",
       "1                                                        NaN                               \n",
       "2                                                        NaN                               \n",
       "3                                                        NaN                               \n",
       "4                                                        NaN                               \n",
       "5                                                        NaN                               \n",
       "\n",
       "[5 rows x 139 columns]"
      ]
     },
     "execution_count": 21,
     "metadata": {},
     "output_type": "execute_result"
    }
   ],
   "source": [
    "jokemat = df.pivot_table(index='user_id',columns='joke_text',values='Rating')\n",
    "jokemat.head()"
   ]
  },
  {
   "cell_type": "code",
   "execution_count": 23,
   "metadata": {},
   "outputs": [
    {
     "data": {
      "text/html": [
       "<div>\n",
       "<style scoped>\n",
       "    .dataframe tbody tr th:only-of-type {\n",
       "        vertical-align: middle;\n",
       "    }\n",
       "\n",
       "    .dataframe tbody tr th {\n",
       "        vertical-align: top;\n",
       "    }\n",
       "\n",
       "    .dataframe thead th {\n",
       "        text-align: right;\n",
       "    }\n",
       "</style>\n",
       "<table border=\"1\" class=\"dataframe\">\n",
       "  <thead>\n",
       "    <tr style=\"text-align: right;\">\n",
       "      <th></th>\n",
       "      <th>Rating</th>\n",
       "      <th>num of ratings</th>\n",
       "    </tr>\n",
       "    <tr>\n",
       "      <th>joke_text</th>\n",
       "      <th></th>\n",
       "      <th></th>\n",
       "    </tr>\n",
       "  </thead>\n",
       "  <tbody>\n",
       "    <tr>\n",
       "      <th>How many men does it take to screw in a light bulb? One. Men will screw anything.</th>\n",
       "      <td>0.541743</td>\n",
       "      <td>2859</td>\n",
       "    </tr>\n",
       "    <tr>\n",
       "      <th>How many feminists does it take to screw in a light bulb? That's not funny.</th>\n",
       "      <td>-1.906459</td>\n",
       "      <td>2836</td>\n",
       "    </tr>\n",
       "    <tr>\n",
       "      <th>Q: What did the blind person say when given some matzah? A: Who the hell wrote this?</th>\n",
       "      <td>-1.415220</td>\n",
       "      <td>2803</td>\n",
       "    </tr>\n",
       "    <tr>\n",
       "      <th>Q. Did you hear about the dyslexic devil worshiper? A. He sold his soul to Santa.</th>\n",
       "      <td>-0.687031</td>\n",
       "      <td>2797</td>\n",
       "    </tr>\n",
       "    <tr>\n",
       "      <th>They asked the Japanese visitor if they have elections in his country. \"Every morning,\" he answers.</th>\n",
       "      <td>-0.428122</td>\n",
       "      <td>2776</td>\n",
       "    </tr>\n",
       "    <tr>\n",
       "      <th>Q. What is orange and sounds like a parrot? A. A carrot.</th>\n",
       "      <td>-1.695804</td>\n",
       "      <td>2747</td>\n",
       "    </tr>\n",
       "    <tr>\n",
       "      <th>A dog walks into Western Union and asks the clerk to send a telegram. He fills out a form on which he writes down the telegram he wishes to send: \"Bow wow wow, bow wow wow.\" The clerk says, \"You can add another 'Bow wow' for the same price.\" The dog responded, \"Now wouldn't that sound a little silly?\"</th>\n",
       "      <td>-0.098657</td>\n",
       "      <td>2721</td>\n",
       "    </tr>\n",
       "    <tr>\n",
       "      <th>Q: If a person who speaks three languages is called \"trilingual,\" and a person who speaks two languages is called \"bilingual,\" what do you call a person who only speaks one language? A: American!</th>\n",
       "      <td>0.720132</td>\n",
       "      <td>2643</td>\n",
       "    </tr>\n",
       "    <tr>\n",
       "      <th>A radio conversation between a US naval ship and Canadian authorities... Americans: Please divert your course 15 degrees to the North to avoid a collision. Canadians: Recommend you divert YOUR course 15 degrees to the South to avoid a collision. Americans: This is the captain of a US Navy ship. I say again, divert YOUR course. Canadians: No. I say again, you divert YOUR course. Americans: This is the aircraft carrier USS Lincoln, the second largest ship in the United States' Atlantic Fleet. We are accompanied by three destroyers, three cruisers and numerous support vessels. I demand that you change your course 15 degrees North, that's ONE FIVE DEGREES NORTH, or counter-measures will be undertaken to ensure the safety of this ship. Canadians: This is a lighthouse. Your call.</th>\n",
       "      <td>3.627283</td>\n",
       "      <td>1732</td>\n",
       "    </tr>\n",
       "    <tr>\n",
       "      <th>Sherlock Holmes and Dr. Watson go on a camping trip, set up their tent, and fall asleep. Some hours later, Holmes wakes his faithful friend. \"Watson, look up at the sky and tell me what you see.\" Watson replies, \"I see millions of stars.\" \"What does that tell you?\" Watson ponders for a minute. \"Astronomically speaking, it tells me that there are millions of galaxies and potentially billions of planets. Astrologically, it tells me that Saturn is in Leo. Timewise, it appears to be approximately a quarter past three. Theologically, it's evident the Lord is all-powerful and we are small and insignificant. Meteorologically, it seems we will have a beautiful day tomorrow. What does it tell you?\" Holmes is silent for a moment, then speaks. \"Watson, you idiot, someone has stolen our tent.\"</th>\n",
       "      <td>3.318212</td>\n",
       "      <td>1696</td>\n",
       "    </tr>\n",
       "  </tbody>\n",
       "</table>\n",
       "</div>"
      ],
      "text/plain": [
       "                                                      Rating  num of ratings\n",
       "joke_text                                                                   \n",
       "How many men does it take to screw in a light b...  0.541743            2859\n",
       "How many feminists does it take to screw in a l... -1.906459            2836\n",
       "Q: What did the blind person say when given som... -1.415220            2803\n",
       "Q. Did you hear about the dyslexic devil worshi... -0.687031            2797\n",
       "They asked the Japanese visitor if they have el... -0.428122            2776\n",
       "Q. What is orange and sounds like a parrot? A. ... -1.695804            2747\n",
       "A dog walks into Western Union and asks the cle... -0.098657            2721\n",
       "Q: If a person who speaks three languages is ca...  0.720132            2643\n",
       "A radio conversation between a US naval ship an...  3.627283            1732\n",
       "Sherlock Holmes and Dr. Watson go on a camping ...  3.318212            1696"
      ]
     },
     "execution_count": 23,
     "metadata": {},
     "output_type": "execute_result"
    }
   ],
   "source": [
    "ratings.sort_values('num of ratings',ascending=False).head(10)"
   ]
  },
  {
   "cell_type": "code",
   "execution_count": 24,
   "metadata": {},
   "outputs": [
    {
     "data": {
      "text/html": [
       "<div>\n",
       "<style scoped>\n",
       "    .dataframe tbody tr th:only-of-type {\n",
       "        vertical-align: middle;\n",
       "    }\n",
       "\n",
       "    .dataframe tbody tr th {\n",
       "        vertical-align: top;\n",
       "    }\n",
       "\n",
       "    .dataframe thead th {\n",
       "        text-align: right;\n",
       "    }\n",
       "</style>\n",
       "<table border=\"1\" class=\"dataframe\">\n",
       "  <thead>\n",
       "    <tr style=\"text-align: right;\">\n",
       "      <th></th>\n",
       "      <th>Rating</th>\n",
       "      <th>num of ratings</th>\n",
       "    </tr>\n",
       "    <tr>\n",
       "      <th>joke_text</th>\n",
       "      <th></th>\n",
       "      <th></th>\n",
       "    </tr>\n",
       "  </thead>\n",
       "  <tbody>\n",
       "    <tr>\n",
       "      <th>(A) The Japanese eat very little fat and suffer fewer heart attacks than the British or Americans. (B) On the other hand, the French eat a lot of fat and also suffer fewer heart attacks than the British or Americans. (C) The Chinese drink very little red wine and suffer fewer heart attacks than the British or Americans. (D) The Italians drink excessive amounts of red wine and also suffer fewer heart attacks than the British or Americans. (E) Conclusion: Eat and drink what you like. It's speaking English that kills you.</th>\n",
       "      <td>2.563397</td>\n",
       "      <td>761</td>\n",
       "    </tr>\n",
       "    <tr>\n",
       "      <th>A Briton, a Frenchman and a Russian are viewing a painting of Adam and Eve frolicking in the Garden of Eden. \"Look at their reserve, their calm,\" muses the Brit. \"They must be British.\" \"Nonsense,\" the Frenchman disagrees. \"They're naked, and so beautiful. Clearly, they are French.\" \"No way! They have no clothes and no shelter,\" the Russian points out, \"They have only an apple to eat, and they are being told they live in a paradise. Obviously, they are Russian.\"</th>\n",
       "      <td>3.370223</td>\n",
       "      <td>1110</td>\n",
       "    </tr>\n",
       "    <tr>\n",
       "      <th>A Czechoslovakian man felt his eyesight was growing steadily worse, and felt it was time to go see an optometrist. The doctor started with some simple testing, and showed him a standard eye chart with letters of diminishing size: CRKBNWXSKZY... \"Can you read this?\" the doctor asked. \"Read it?\" the Czech answered. \"Doc, I know him!\"</th>\n",
       "      <td>2.153866</td>\n",
       "      <td>589</td>\n",
       "    </tr>\n",
       "    <tr>\n",
       "      <th>A Jewish young man was seeing a psychiatrist for an eating and sleeping disorder. \"I am so obsessed with my mother...As soon as I go to sleep, I start dreaming, and everyone in my dream turns into my mother. I wake up in such a state, and all I can do is go downstairs and eat a piece of toast.\" The psychiatrist replies, \"What, just one piece of toast, for a big boy like you?\"</th>\n",
       "      <td>-0.129281</td>\n",
       "      <td>417</td>\n",
       "    </tr>\n",
       "    <tr>\n",
       "      <th>A Panda walks into a bar, sits down at a table and orders a beer and a double cheeseburger. After he is finished eating, he pulls out a gun and rips the place with gunfire. Patrons scatter and dive under chairs and tables as the bear runs out the door. After ensuring that no one is hurt, the bartender races out the door, and calls after the bear: \"What the hell did you do that for?\" The bear calls back, \"I'm a Panda. Look it up in the dictionary.\" The bartender returns, pulls out his dictionary. panda: \\Pan\"da\\, n. (Zo[\"o]l.) A small Asiatic mammal (Ailurus fulgens) having fine soft fur. It is related to the bears, and inhabits the mountains of Northern India. Eats shoots and leaves.</th>\n",
       "      <td>1.802013</td>\n",
       "      <td>711</td>\n",
       "    </tr>\n",
       "  </tbody>\n",
       "</table>\n",
       "</div>"
      ],
      "text/plain": [
       "                                                      Rating  num of ratings\n",
       "joke_text                                                                   \n",
       "(A) The Japanese eat very little fat and suffer...  2.563397             761\n",
       "A Briton, a Frenchman and a Russian are viewing...  3.370223            1110\n",
       "A Czechoslovakian man felt his eyesight was gro...  2.153866             589\n",
       "A Jewish young man was seeing a psychiatrist fo... -0.129281             417\n",
       "A Panda walks into a bar, sits down at a table ...  1.802013             711"
      ]
     },
     "execution_count": 24,
     "metadata": {},
     "output_type": "execute_result"
    }
   ],
   "source": [
    "ratings.head()"
   ]
  },
  {
   "cell_type": "code",
   "execution_count": 28,
   "metadata": {},
   "outputs": [
    {
     "data": {
      "text/plain": [
       "user_id\n",
       "1       NaN\n",
       "2       NaN\n",
       "3       NaN\n",
       "4       NaN\n",
       "5       NaN\n",
       "6       NaN\n",
       "7       NaN\n",
       "8     9.031\n",
       "9       NaN\n",
       "10      NaN\n",
       "Name: How many men does it take to screw in a light bulb? One. Men will screw anything., dtype: float64"
      ]
     },
     "execution_count": 28,
     "metadata": {},
     "output_type": "execute_result"
    }
   ],
   "source": [
    "user_ratings = jokemat['How many men does it take to screw in a light bulb? One. Men will screw anything.']\n",
    "user_ratings.head(10)"
   ]
  },
  {
   "cell_type": "code",
   "execution_count": 29,
   "metadata": {},
   "outputs": [],
   "source": [
    "similar = jokemat.corrwith(user_ratings)"
   ]
  },
  {
   "cell_type": "code",
   "execution_count": 30,
   "metadata": {},
   "outputs": [
    {
     "data": {
      "text/html": [
       "<div>\n",
       "<style scoped>\n",
       "    .dataframe tbody tr th:only-of-type {\n",
       "        vertical-align: middle;\n",
       "    }\n",
       "\n",
       "    .dataframe tbody tr th {\n",
       "        vertical-align: top;\n",
       "    }\n",
       "\n",
       "    .dataframe thead th {\n",
       "        text-align: right;\n",
       "    }\n",
       "</style>\n",
       "<table border=\"1\" class=\"dataframe\">\n",
       "  <thead>\n",
       "    <tr style=\"text-align: right;\">\n",
       "      <th></th>\n",
       "      <th>Correlation</th>\n",
       "    </tr>\n",
       "    <tr>\n",
       "      <th>joke_text</th>\n",
       "      <th></th>\n",
       "    </tr>\n",
       "  </thead>\n",
       "  <tbody>\n",
       "    <tr>\n",
       "      <th>(A) The Japanese eat very little fat and suffer fewer heart attacks than the British or Americans. (B) On the other hand, the French eat a lot of fat and also suffer fewer heart attacks than the British or Americans. (C) The Chinese drink very little red wine and suffer fewer heart attacks than the British or Americans. (D) The Italians drink excessive amounts of red wine and also suffer fewer heart attacks than the British or Americans. (E) Conclusion: Eat and drink what you like. It's speaking English that kills you.</th>\n",
       "      <td>0.105635</td>\n",
       "    </tr>\n",
       "    <tr>\n",
       "      <th>A Briton, a Frenchman and a Russian are viewing a painting of Adam and Eve frolicking in the Garden of Eden. \"Look at their reserve, their calm,\" muses the Brit. \"They must be British.\" \"Nonsense,\" the Frenchman disagrees. \"They're naked, and so beautiful. Clearly, they are French.\" \"No way! They have no clothes and no shelter,\" the Russian points out, \"They have only an apple to eat, and they are being told they live in a paradise. Obviously, they are Russian.\"</th>\n",
       "      <td>0.279272</td>\n",
       "    </tr>\n",
       "    <tr>\n",
       "      <th>A Czechoslovakian man felt his eyesight was growing steadily worse, and felt it was time to go see an optometrist. The doctor started with some simple testing, and showed him a standard eye chart with letters of diminishing size: CRKBNWXSKZY... \"Can you read this?\" the doctor asked. \"Read it?\" the Czech answered. \"Doc, I know him!\"</th>\n",
       "      <td>0.206407</td>\n",
       "    </tr>\n",
       "    <tr>\n",
       "      <th>A Jewish young man was seeing a psychiatrist for an eating and sleeping disorder. \"I am so obsessed with my mother...As soon as I go to sleep, I start dreaming, and everyone in my dream turns into my mother. I wake up in such a state, and all I can do is go downstairs and eat a piece of toast.\" The psychiatrist replies, \"What, just one piece of toast, for a big boy like you?\"</th>\n",
       "      <td>-0.178807</td>\n",
       "    </tr>\n",
       "    <tr>\n",
       "      <th>A Panda walks into a bar, sits down at a table and orders a beer and a double cheeseburger. After he is finished eating, he pulls out a gun and rips the place with gunfire. Patrons scatter and dive under chairs and tables as the bear runs out the door. After ensuring that no one is hurt, the bartender races out the door, and calls after the bear: \"What the hell did you do that for?\" The bear calls back, \"I'm a Panda. Look it up in the dictionary.\" The bartender returns, pulls out his dictionary. panda: \\Pan\"da\\, n. (Zo[\"o]l.) A small Asiatic mammal (Ailurus fulgens) having fine soft fur. It is related to the bears, and inhabits the mountains of Northern India. Eats shoots and leaves.</th>\n",
       "      <td>0.244826</td>\n",
       "    </tr>\n",
       "  </tbody>\n",
       "</table>\n",
       "</div>"
      ],
      "text/plain": [
       "                                                    Correlation\n",
       "joke_text                                                      \n",
       "(A) The Japanese eat very little fat and suffer...     0.105635\n",
       "A Briton, a Frenchman and a Russian are viewing...     0.279272\n",
       "A Czechoslovakian man felt his eyesight was gro...     0.206407\n",
       "A Jewish young man was seeing a psychiatrist fo...    -0.178807\n",
       "A Panda walks into a bar, sits down at a table ...     0.244826"
      ]
     },
     "execution_count": 30,
     "metadata": {},
     "output_type": "execute_result"
    }
   ],
   "source": [
    "corr_joke = pd.DataFrame(similar,columns=['Correlation'])\n",
    "corr_joke.dropna(inplace=True)\n",
    "corr_joke.head()"
   ]
  },
  {
   "cell_type": "code",
   "execution_count": 31,
   "metadata": {},
   "outputs": [
    {
     "data": {
      "text/html": [
       "<div>\n",
       "<style scoped>\n",
       "    .dataframe tbody tr th:only-of-type {\n",
       "        vertical-align: middle;\n",
       "    }\n",
       "\n",
       "    .dataframe tbody tr th {\n",
       "        vertical-align: top;\n",
       "    }\n",
       "\n",
       "    .dataframe thead th {\n",
       "        text-align: right;\n",
       "    }\n",
       "</style>\n",
       "<table border=\"1\" class=\"dataframe\">\n",
       "  <thead>\n",
       "    <tr style=\"text-align: right;\">\n",
       "      <th></th>\n",
       "      <th>Correlation</th>\n",
       "    </tr>\n",
       "    <tr>\n",
       "      <th>joke_text</th>\n",
       "      <th></th>\n",
       "    </tr>\n",
       "  </thead>\n",
       "  <tbody>\n",
       "    <tr>\n",
       "      <th>How many men does it take to screw in a light bulb? One. Men will screw anything.</th>\n",
       "      <td>1.000000</td>\n",
       "    </tr>\n",
       "    <tr>\n",
       "      <th>What's the difference between a Macintosh and an Etch-a-Sketch? You don't have to shake the Mac to clear the screen.</th>\n",
       "      <td>1.000000</td>\n",
       "    </tr>\n",
       "    <tr>\n",
       "      <th>Q. What's O. J. Simpson's web address? A. Slash, slash, backslash, slash, slash, escape.</th>\n",
       "      <td>0.870792</td>\n",
       "    </tr>\n",
       "    <tr>\n",
       "      <th>Person 1: Hey, wanna hear a great knock-knock joke? Person 2: Sure, What is it? Person 1: Okay, you start. Person 2: Knock-knock. Person 1: Who's there? Person 2: ... Person 1: Hah!</th>\n",
       "      <td>0.733239</td>\n",
       "    </tr>\n",
       "    <tr>\n",
       "      <th>Q: How many presidents does it take to screw in a light bulb? A: It depends upon your definition of screwing a light bulb.</th>\n",
       "      <td>0.683429</td>\n",
       "    </tr>\n",
       "    <tr>\n",
       "      <th>A lady bought a new Lexus. It cost a bundle. Two days later, she brought it back, complaining that the radio was not working. \"Madam,\" said the sales manager, \"the audio system in this car is completely automatic. All you need to do is tell it what you want to listen to, and you will hear exactly that!\" She drove out, somewhat amazed and a little confused. She looked at the radio and said, \"Nelson.\" The radio responded, \"Ricky or Willie?\" She was astounded. If she wanted Beethoven, that's what she got. If she wanted Nat King Cole, she got it. She was stopped at a traffic light enjoying \"On the Road Again\" when the light turned green and she pulled out. Suddenly an enormous sports utility vehicle coming from the street she was crossing sped toward her, obviously not paying attention to the light. She swerved and narrowly missed a collision. \"Idiot!\" she yelled and, from the radio, \"Ladies and gentlemen, the President of the United States.\"</th>\n",
       "      <td>0.622418</td>\n",
       "    </tr>\n",
       "    <tr>\n",
       "      <th>What do you get when you run over a parakeet with a lawnmower? Shredded tweet.</th>\n",
       "      <td>0.579496</td>\n",
       "    </tr>\n",
       "    <tr>\n",
       "      <th>A couple has been married for 75 years. For the husband's 95th birthday, his wife decides to surprise him by hiring a prostitute. That day, the doorbell rings. The husband uses his walker to get to the door and opens it. A 21-year-old in a latex outfit smiles and says, \"Hi, I here to give you super sex!\" The old man says, \"I'll take the soup.\"</th>\n",
       "      <td>0.558913</td>\n",
       "    </tr>\n",
       "    <tr>\n",
       "      <th>America: 8:00 - Welcome to work! 12:00 - Lunch break 17:00 - The work day is over Japan: 8:00 - Are you already at work? 12:00 - Continue your work 17:00 - The work day is over 20:00 - Please finish your work Romania: 8:00 - Has anyone come to work? 12:00 - Did someone start working? 16:00 - Is anyone at work?</th>\n",
       "      <td>0.514269</td>\n",
       "    </tr>\n",
       "    <tr>\n",
       "      <th>What's the difference between a used tire and 365 used condoms? One's a Goodyear, the other's a great year.</th>\n",
       "      <td>0.513964</td>\n",
       "    </tr>\n",
       "  </tbody>\n",
       "</table>\n",
       "</div>"
      ],
      "text/plain": [
       "                                                    Correlation\n",
       "joke_text                                                      \n",
       "How many men does it take to screw in a light b...     1.000000\n",
       "What's the difference between a Macintosh and a...     1.000000\n",
       "Q. What's O. J. Simpson's web address? A. Slash...     0.870792\n",
       "Person 1: Hey, wanna hear a great knock-knock j...     0.733239\n",
       "Q: How many presidents does it take to screw in...     0.683429\n",
       "A lady bought a new Lexus. It cost a bundle. Tw...     0.622418\n",
       "What do you get when you run over a parakeet wi...     0.579496\n",
       "A couple has been married for 75 years. For the...     0.558913\n",
       "America: 8:00 - Welcome to work! 12:00 - Lunch ...     0.514269\n",
       "What's the difference between a used tire and 3...     0.513964"
      ]
     },
     "execution_count": 31,
     "metadata": {},
     "output_type": "execute_result"
    }
   ],
   "source": [
    "corr_joke.sort_values('Correlation',ascending=False).head(10)"
   ]
  },
  {
   "cell_type": "code",
   "execution_count": 32,
   "metadata": {},
   "outputs": [
    {
     "data": {
      "text/html": [
       "<div>\n",
       "<style scoped>\n",
       "    .dataframe tbody tr th:only-of-type {\n",
       "        vertical-align: middle;\n",
       "    }\n",
       "\n",
       "    .dataframe tbody tr th {\n",
       "        vertical-align: top;\n",
       "    }\n",
       "\n",
       "    .dataframe thead th {\n",
       "        text-align: right;\n",
       "    }\n",
       "</style>\n",
       "<table border=\"1\" class=\"dataframe\">\n",
       "  <thead>\n",
       "    <tr style=\"text-align: right;\">\n",
       "      <th></th>\n",
       "      <th>Correlation</th>\n",
       "      <th>num of ratings</th>\n",
       "    </tr>\n",
       "    <tr>\n",
       "      <th>joke_text</th>\n",
       "      <th></th>\n",
       "      <th></th>\n",
       "    </tr>\n",
       "  </thead>\n",
       "  <tbody>\n",
       "    <tr>\n",
       "      <th>(A) The Japanese eat very little fat and suffer fewer heart attacks than the British or Americans. (B) On the other hand, the French eat a lot of fat and also suffer fewer heart attacks than the British or Americans. (C) The Chinese drink very little red wine and suffer fewer heart attacks than the British or Americans. (D) The Italians drink excessive amounts of red wine and also suffer fewer heart attacks than the British or Americans. (E) Conclusion: Eat and drink what you like. It's speaking English that kills you.</th>\n",
       "      <td>0.105635</td>\n",
       "      <td>761</td>\n",
       "    </tr>\n",
       "    <tr>\n",
       "      <th>A Briton, a Frenchman and a Russian are viewing a painting of Adam and Eve frolicking in the Garden of Eden. \"Look at their reserve, their calm,\" muses the Brit. \"They must be British.\" \"Nonsense,\" the Frenchman disagrees. \"They're naked, and so beautiful. Clearly, they are French.\" \"No way! They have no clothes and no shelter,\" the Russian points out, \"They have only an apple to eat, and they are being told they live in a paradise. Obviously, they are Russian.\"</th>\n",
       "      <td>0.279272</td>\n",
       "      <td>1110</td>\n",
       "    </tr>\n",
       "    <tr>\n",
       "      <th>A Czechoslovakian man felt his eyesight was growing steadily worse, and felt it was time to go see an optometrist. The doctor started with some simple testing, and showed him a standard eye chart with letters of diminishing size: CRKBNWXSKZY... \"Can you read this?\" the doctor asked. \"Read it?\" the Czech answered. \"Doc, I know him!\"</th>\n",
       "      <td>0.206407</td>\n",
       "      <td>589</td>\n",
       "    </tr>\n",
       "    <tr>\n",
       "      <th>A Jewish young man was seeing a psychiatrist for an eating and sleeping disorder. \"I am so obsessed with my mother...As soon as I go to sleep, I start dreaming, and everyone in my dream turns into my mother. I wake up in such a state, and all I can do is go downstairs and eat a piece of toast.\" The psychiatrist replies, \"What, just one piece of toast, for a big boy like you?\"</th>\n",
       "      <td>-0.178807</td>\n",
       "      <td>417</td>\n",
       "    </tr>\n",
       "    <tr>\n",
       "      <th>A Panda walks into a bar, sits down at a table and orders a beer and a double cheeseburger. After he is finished eating, he pulls out a gun and rips the place with gunfire. Patrons scatter and dive under chairs and tables as the bear runs out the door. After ensuring that no one is hurt, the bartender races out the door, and calls after the bear: \"What the hell did you do that for?\" The bear calls back, \"I'm a Panda. Look it up in the dictionary.\" The bartender returns, pulls out his dictionary. panda: \\Pan\"da\\, n. (Zo[\"o]l.) A small Asiatic mammal (Ailurus fulgens) having fine soft fur. It is related to the bears, and inhabits the mountains of Northern India. Eats shoots and leaves.</th>\n",
       "      <td>0.244826</td>\n",
       "      <td>711</td>\n",
       "    </tr>\n",
       "  </tbody>\n",
       "</table>\n",
       "</div>"
      ],
      "text/plain": [
       "                                                    Correlation  \\\n",
       "joke_text                                                         \n",
       "(A) The Japanese eat very little fat and suffer...     0.105635   \n",
       "A Briton, a Frenchman and a Russian are viewing...     0.279272   \n",
       "A Czechoslovakian man felt his eyesight was gro...     0.206407   \n",
       "A Jewish young man was seeing a psychiatrist fo...    -0.178807   \n",
       "A Panda walks into a bar, sits down at a table ...     0.244826   \n",
       "\n",
       "                                                    num of ratings  \n",
       "joke_text                                                           \n",
       "(A) The Japanese eat very little fat and suffer...             761  \n",
       "A Briton, a Frenchman and a Russian are viewing...            1110  \n",
       "A Czechoslovakian man felt his eyesight was gro...             589  \n",
       "A Jewish young man was seeing a psychiatrist fo...             417  \n",
       "A Panda walks into a bar, sits down at a table ...             711  "
      ]
     },
     "execution_count": 32,
     "metadata": {},
     "output_type": "execute_result"
    }
   ],
   "source": [
    "corr_joke = corr_joke.join(ratings['num of ratings'])\n",
    "corr_joke.head()"
   ]
  },
  {
   "cell_type": "code",
   "execution_count": 33,
   "metadata": {},
   "outputs": [
    {
     "data": {
      "text/html": [
       "<div>\n",
       "<style scoped>\n",
       "    .dataframe tbody tr th:only-of-type {\n",
       "        vertical-align: middle;\n",
       "    }\n",
       "\n",
       "    .dataframe tbody tr th {\n",
       "        vertical-align: top;\n",
       "    }\n",
       "\n",
       "    .dataframe thead th {\n",
       "        text-align: right;\n",
       "    }\n",
       "</style>\n",
       "<table border=\"1\" class=\"dataframe\">\n",
       "  <thead>\n",
       "    <tr style=\"text-align: right;\">\n",
       "      <th></th>\n",
       "      <th>Correlation</th>\n",
       "      <th>num of ratings</th>\n",
       "    </tr>\n",
       "    <tr>\n",
       "      <th>joke_text</th>\n",
       "      <th></th>\n",
       "      <th></th>\n",
       "    </tr>\n",
       "  </thead>\n",
       "  <tbody>\n",
       "    <tr>\n",
       "      <th>How many men does it take to screw in a light bulb? One. Men will screw anything.</th>\n",
       "      <td>1.000000</td>\n",
       "      <td>2859</td>\n",
       "    </tr>\n",
       "    <tr>\n",
       "      <th>Person 1: Hey, wanna hear a great knock-knock joke? Person 2: Sure, What is it? Person 1: Okay, you start. Person 2: Knock-knock. Person 1: Who's there? Person 2: ... Person 1: Hah!</th>\n",
       "      <td>0.733239</td>\n",
       "      <td>274</td>\n",
       "    </tr>\n",
       "    <tr>\n",
       "      <th>Q: How many presidents does it take to screw in a light bulb? A: It depends upon your definition of screwing a light bulb.</th>\n",
       "      <td>0.683429</td>\n",
       "      <td>336</td>\n",
       "    </tr>\n",
       "    <tr>\n",
       "      <th>A lady bought a new Lexus. It cost a bundle. Two days later, she brought it back, complaining that the radio was not working. \"Madam,\" said the sales manager, \"the audio system in this car is completely automatic. All you need to do is tell it what you want to listen to, and you will hear exactly that!\" She drove out, somewhat amazed and a little confused. She looked at the radio and said, \"Nelson.\" The radio responded, \"Ricky or Willie?\" She was astounded. If she wanted Beethoven, that's what she got. If she wanted Nat King Cole, she got it. She was stopped at a traffic light enjoying \"On the Road Again\" when the light turned green and she pulled out. Suddenly an enormous sports utility vehicle coming from the street she was crossing sped toward her, obviously not paying attention to the light. She swerved and narrowly missed a collision. \"Idiot!\" she yelled and, from the radio, \"Ladies and gentlemen, the President of the United States.\"</th>\n",
       "      <td>0.622418</td>\n",
       "      <td>619</td>\n",
       "    </tr>\n",
       "    <tr>\n",
       "      <th>What do you get when you run over a parakeet with a lawnmower? Shredded tweet.</th>\n",
       "      <td>0.579496</td>\n",
       "      <td>303</td>\n",
       "    </tr>\n",
       "  </tbody>\n",
       "</table>\n",
       "</div>"
      ],
      "text/plain": [
       "                                                    Correlation  \\\n",
       "joke_text                                                         \n",
       "How many men does it take to screw in a light b...     1.000000   \n",
       "Person 1: Hey, wanna hear a great knock-knock j...     0.733239   \n",
       "Q: How many presidents does it take to screw in...     0.683429   \n",
       "A lady bought a new Lexus. It cost a bundle. Tw...     0.622418   \n",
       "What do you get when you run over a parakeet wi...     0.579496   \n",
       "\n",
       "                                                    num of ratings  \n",
       "joke_text                                                           \n",
       "How many men does it take to screw in a light b...            2859  \n",
       "Person 1: Hey, wanna hear a great knock-knock j...             274  \n",
       "Q: How many presidents does it take to screw in...             336  \n",
       "A lady bought a new Lexus. It cost a bundle. Tw...             619  \n",
       "What do you get when you run over a parakeet wi...             303  "
      ]
     },
     "execution_count": 33,
     "metadata": {},
     "output_type": "execute_result"
    }
   ],
   "source": [
    "corr_joke[corr_joke['num of ratings']>100].sort_values('Correlation',ascending=False).head()"
   ]
  },
  {
   "cell_type": "code",
   "execution_count": null,
   "metadata": {},
   "outputs": [],
   "source": []
  }
 ],
 "metadata": {
  "kernelspec": {
   "display_name": "Python 3",
   "language": "python",
   "name": "python3"
  },
  "language_info": {
   "codemirror_mode": {
    "name": "ipython",
    "version": 3
   },
   "file_extension": ".py",
   "mimetype": "text/x-python",
   "name": "python",
   "nbconvert_exporter": "python",
   "pygments_lexer": "ipython3",
   "version": "3.6.5"
  }
 },
 "nbformat": 4,
 "nbformat_minor": 2
}
