{
 "cells": [
  {
   "cell_type": "code",
   "execution_count": 1,
   "metadata": {},
   "outputs": [],
   "source": [
    "import requests"
   ]
  },
  {
   "cell_type": "code",
   "execution_count": 3,
   "metadata": {},
   "outputs": [],
   "source": [
    "from bs4 import BeautifulSoup"
   ]
  },
  {
   "cell_type": "code",
   "execution_count": 4,
   "metadata": {},
   "outputs": [],
   "source": [
    "import pandas as pd\n",
    "import numpy as np\n",
    "import matplotlib.pyplot as plt\n",
    "import seaborn as sns\n",
    "import os\n",
    "\n",
    "%matplotlib inline"
   ]
  },
  {
   "cell_type": "code",
   "execution_count": 5,
   "metadata": {},
   "outputs": [],
   "source": [
    "seed_urls = ['https://inshorts.com/en/read/technology',\n",
    "             'https://inshorts.com/en/read/sports',\n",
    "             'https://inshorts.com/en/read/world']"
   ]
  },
  {
   "cell_type": "code",
   "execution_count": 8,
   "metadata": {},
   "outputs": [],
   "source": [
    "def build_dataset(seed_urls):\n",
    "    news_data = []\n",
    "    for url in seed_urls:\n",
    "        news_category = url.split('/')[-1]\n",
    "        data = requests.get(url)\n",
    "        soup = BeautifulSoup(data.content, 'html.parser')\n",
    "        \n",
    "        news_articles = [{'news_headline': headline.find('span', \n",
    "                                                         attrs={\"itemprop\": \"headline\"}).string,\n",
    "                          'news_article': article.find('div', \n",
    "                                                       attrs={\"itemprop\": \"articleBody\"}).string,\n",
    "                          'news_category': news_category}\n",
    "                         \n",
    "                            for headline, article in \n",
    "                             zip(soup.find_all('div', \n",
    "                                               class_=[\"news-card-title news-right-box\"]),\n",
    "                                 soup.find_all('div', \n",
    "                                               class_=[\"news-card-content news-right-box\"]))\n",
    "                        ]\n",
    "        news_data.extend(news_articles)\n",
    "        \n",
    "    df =  pd.DataFrame(news_data)\n",
    "    df = df[['news_headline', 'news_article', 'news_category']]\n",
    "    return df"
   ]
  },
  {
   "cell_type": "code",
   "execution_count": 9,
   "metadata": {},
   "outputs": [
    {
     "data": {
      "text/html": [
       "<div>\n",
       "<style scoped>\n",
       "    .dataframe tbody tr th:only-of-type {\n",
       "        vertical-align: middle;\n",
       "    }\n",
       "\n",
       "    .dataframe tbody tr th {\n",
       "        vertical-align: top;\n",
       "    }\n",
       "\n",
       "    .dataframe thead th {\n",
       "        text-align: right;\n",
       "    }\n",
       "</style>\n",
       "<table border=\"1\" class=\"dataframe\">\n",
       "  <thead>\n",
       "    <tr style=\"text-align: right;\">\n",
       "      <th></th>\n",
       "      <th>news_headline</th>\n",
       "      <th>news_article</th>\n",
       "      <th>news_category</th>\n",
       "    </tr>\n",
       "  </thead>\n",
       "  <tbody>\n",
       "    <tr>\n",
       "      <th>0</th>\n",
       "      <td>OnePlus showcases its 5G prototype smartphone ...</td>\n",
       "      <td>Global smartphone maker OnePlus has revealed i...</td>\n",
       "      <td>technology</td>\n",
       "    </tr>\n",
       "    <tr>\n",
       "      <th>1</th>\n",
       "      <td>End $479 mn US Army contract: Microsoft employ...</td>\n",
       "      <td>Over 100 Microsoft workers have written to CEO...</td>\n",
       "      <td>technology</td>\n",
       "    </tr>\n",
       "    <tr>\n",
       "      <th>2</th>\n",
       "      <td>We are very aware of iPhone pricing concerns: ...</td>\n",
       "      <td>Apple COO Jeff Williams, who was speaking at A...</td>\n",
       "      <td>technology</td>\n",
       "    </tr>\n",
       "    <tr>\n",
       "      <th>3</th>\n",
       "      <td>Miss him today, every day: Apple CEO on Steve ...</td>\n",
       "      <td>Remembering late Apple Co-founder Steve Jobs o...</td>\n",
       "      <td>technology</td>\n",
       "    </tr>\n",
       "    <tr>\n",
       "      <th>4</th>\n",
       "      <td>Won't withhold tech from democracies: Microsof...</td>\n",
       "      <td>Microsoft CEO Satya Nadella defended the contr...</td>\n",
       "      <td>technology</td>\n",
       "    </tr>\n",
       "    <tr>\n",
       "      <th>5</th>\n",
       "      <td>Adobe fixes bug that damaged MacBook Pro speakers</td>\n",
       "      <td>Adobe has fixed a bug in its Premiere Pro afte...</td>\n",
       "      <td>technology</td>\n",
       "    </tr>\n",
       "    <tr>\n",
       "      <th>6</th>\n",
       "      <td>LG shows G8 ThinQ smartphone which uses palm's...</td>\n",
       "      <td>South Korean electronics company LG showed its...</td>\n",
       "      <td>technology</td>\n",
       "    </tr>\n",
       "    <tr>\n",
       "      <th>7</th>\n",
       "      <td>Twitter given 10 days to reply to parliament p...</td>\n",
       "      <td>The Parliamentary Committee on Information Tec...</td>\n",
       "      <td>technology</td>\n",
       "    </tr>\n",
       "    <tr>\n",
       "      <th>8</th>\n",
       "      <td>Satellite view was almost named 'Bird Mode': G...</td>\n",
       "      <td>Google Maps co-creator Bret Taylor has reveale...</td>\n",
       "      <td>technology</td>\n",
       "    </tr>\n",
       "    <tr>\n",
       "      <th>9</th>\n",
       "      <td>Warner Music sues to block its songs from Spot...</td>\n",
       "      <td>Warner Music Group has asked the Bombay High C...</td>\n",
       "      <td>technology</td>\n",
       "    </tr>\n",
       "  </tbody>\n",
       "</table>\n",
       "</div>"
      ],
      "text/plain": [
       "                                       news_headline  \\\n",
       "0  OnePlus showcases its 5G prototype smartphone ...   \n",
       "1  End $479 mn US Army contract: Microsoft employ...   \n",
       "2  We are very aware of iPhone pricing concerns: ...   \n",
       "3  Miss him today, every day: Apple CEO on Steve ...   \n",
       "4  Won't withhold tech from democracies: Microsof...   \n",
       "5  Adobe fixes bug that damaged MacBook Pro speakers   \n",
       "6  LG shows G8 ThinQ smartphone which uses palm's...   \n",
       "7  Twitter given 10 days to reply to parliament p...   \n",
       "8  Satellite view was almost named 'Bird Mode': G...   \n",
       "9  Warner Music sues to block its songs from Spot...   \n",
       "\n",
       "                                        news_article news_category  \n",
       "0  Global smartphone maker OnePlus has revealed i...    technology  \n",
       "1  Over 100 Microsoft workers have written to CEO...    technology  \n",
       "2  Apple COO Jeff Williams, who was speaking at A...    technology  \n",
       "3  Remembering late Apple Co-founder Steve Jobs o...    technology  \n",
       "4  Microsoft CEO Satya Nadella defended the contr...    technology  \n",
       "5  Adobe has fixed a bug in its Premiere Pro afte...    technology  \n",
       "6  South Korean electronics company LG showed its...    technology  \n",
       "7  The Parliamentary Committee on Information Tec...    technology  \n",
       "8  Google Maps co-creator Bret Taylor has reveale...    technology  \n",
       "9  Warner Music Group has asked the Bombay High C...    technology  "
      ]
     },
     "execution_count": 9,
     "metadata": {},
     "output_type": "execute_result"
    }
   ],
   "source": [
    "news_df = build_dataset(seed_urls)\n",
    "news_df.head(10)"
   ]
  },
  {
   "cell_type": "code",
   "execution_count": 11,
   "metadata": {},
   "outputs": [
    {
     "data": {
      "text/html": [
       "<div>\n",
       "<style scoped>\n",
       "    .dataframe tbody tr th:only-of-type {\n",
       "        vertical-align: middle;\n",
       "    }\n",
       "\n",
       "    .dataframe tbody tr th {\n",
       "        vertical-align: top;\n",
       "    }\n",
       "\n",
       "    .dataframe thead th {\n",
       "        text-align: right;\n",
       "    }\n",
       "</style>\n",
       "<table border=\"1\" class=\"dataframe\">\n",
       "  <thead>\n",
       "    <tr style=\"text-align: right;\">\n",
       "      <th></th>\n",
       "      <th>news_headline</th>\n",
       "      <th>news_article</th>\n",
       "      <th>news_category</th>\n",
       "    </tr>\n",
       "  </thead>\n",
       "  <tbody>\n",
       "    <tr>\n",
       "      <th>70</th>\n",
       "      <td>India briefs envoys of 12 nations after Indian...</td>\n",
       "      <td>Hours after the Indian Air Force carried out a...</td>\n",
       "      <td>world</td>\n",
       "    </tr>\n",
       "    <tr>\n",
       "      <th>71</th>\n",
       "      <td>Iran's Foreign Minister Zarif, architect of nu...</td>\n",
       "      <td>Iran's Foreign Minister Mohammad Javad Zarif, ...</td>\n",
       "      <td>world</td>\n",
       "    </tr>\n",
       "    <tr>\n",
       "      <th>72</th>\n",
       "      <td>Kim Jong-un 1st N Korean leader to travel to V...</td>\n",
       "      <td>Kim Jong-un became the first leader of North K...</td>\n",
       "      <td>world</td>\n",
       "    </tr>\n",
       "    <tr>\n",
       "      <th>73</th>\n",
       "      <td>Trump's ex-campaign worker sues him for forcib...</td>\n",
       "      <td>Alva Johnson, a former staffer on Donald Trump...</td>\n",
       "      <td>world</td>\n",
       "    </tr>\n",
       "    <tr>\n",
       "      <th>74</th>\n",
       "      <td>'Ghost island' seen on a frozen Finland lake d...</td>\n",
       "      <td>A Finnish border guard took to Twitter to shar...</td>\n",
       "      <td>world</td>\n",
       "    </tr>\n",
       "  </tbody>\n",
       "</table>\n",
       "</div>"
      ],
      "text/plain": [
       "                                        news_headline  \\\n",
       "70  India briefs envoys of 12 nations after Indian...   \n",
       "71  Iran's Foreign Minister Zarif, architect of nu...   \n",
       "72  Kim Jong-un 1st N Korean leader to travel to V...   \n",
       "73  Trump's ex-campaign worker sues him for forcib...   \n",
       "74  'Ghost island' seen on a frozen Finland lake d...   \n",
       "\n",
       "                                         news_article news_category  \n",
       "70  Hours after the Indian Air Force carried out a...         world  \n",
       "71  Iran's Foreign Minister Mohammad Javad Zarif, ...         world  \n",
       "72  Kim Jong-un became the first leader of North K...         world  \n",
       "73  Alva Johnson, a former staffer on Donald Trump...         world  \n",
       "74  A Finnish border guard took to Twitter to shar...         world  "
      ]
     },
     "execution_count": 11,
     "metadata": {},
     "output_type": "execute_result"
    }
   ],
   "source": [
    "news_df.tail()"
   ]
  },
  {
   "cell_type": "code",
   "execution_count": 12,
   "metadata": {},
   "outputs": [
    {
     "data": {
      "text/plain": [
       "technology    25\n",
       "world         25\n",
       "sports        25\n",
       "Name: news_category, dtype: int64"
      ]
     },
     "execution_count": 12,
     "metadata": {},
     "output_type": "execute_result"
    }
   ],
   "source": [
    "news_df.news_category.value_counts()"
   ]
  },
  {
   "cell_type": "code",
   "execution_count": 13,
   "metadata": {},
   "outputs": [],
   "source": [
    "bcdata = pd.read_csv('cik_list.csv')"
   ]
  },
  {
   "cell_type": "code",
   "execution_count": null,
   "metadata": {},
   "outputs": [],
   "source": []
  }
 ],
 "metadata": {
  "kernelspec": {
   "display_name": "Python 3",
   "language": "python",
   "name": "python3"
  },
  "language_info": {
   "codemirror_mode": {
    "name": "ipython",
    "version": 3
   },
   "file_extension": ".py",
   "mimetype": "text/x-python",
   "name": "python",
   "nbconvert_exporter": "python",
   "pygments_lexer": "ipython3",
   "version": "3.6.5"
  }
 },
 "nbformat": 4,
 "nbformat_minor": 2
}
